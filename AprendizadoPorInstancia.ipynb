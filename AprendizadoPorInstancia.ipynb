{
 "cells": [
  {
   "cell_type": "markdown",
   "id": "8ee70f30-0a69-4847-a24c-df7323e94e4c",
   "metadata": {},
   "source": [
    "# Aprendizado por instância\n",
    "\n",
    "Robson Mesquita Gomes <robson.mesquita56@gmail.com>"
   ]
  },
  {
   "cell_type": "markdown",
   "id": "c1ffd3d4-c5ec-45fc-976d-39a73658d67d",
   "metadata": {
    "tags": []
   },
   "source": [
    "###### Importações Iniciais"
   ]
  },
  {
   "cell_type": "code",
   "execution_count": 40,
   "id": "782da1a9-3859-4f3c-9ba4-93220068959f",
   "metadata": {},
   "outputs": [],
   "source": [
    "import numpy as np\n",
    "import pandas as pd\n",
    "import matplotlib.pyplot as plt\n",
    "\n",
    "import io\n",
    "import requests"
   ]
  },
  {
   "cell_type": "markdown",
   "id": "edf1c82f-8a03-4f4c-87be-4abc08867142",
   "metadata": {},
   "source": [
    "##### Preparação para captura de dados"
   ]
  },
  {
   "cell_type": "code",
   "execution_count": 41,
   "id": "59871a22-cce2-48e6-a345-c9c2e7b0249b",
   "metadata": {},
   "outputs": [],
   "source": [
    "def getDataByURL(url):\n",
    "    \n",
    "    data = requests.get(url).content\n",
    "    \n",
    "    return io.StringIO(data.decode('utf-8'))"
   ]
  },
  {
   "cell_type": "markdown",
   "id": "9adfda98-2a4e-457b-8368-4e1a045a0490",
   "metadata": {
    "tags": []
   },
   "source": [
    "### Dados Titanic\n",
    "\n",
    "O dataset Titanic contém 5 atributos (Nome, Classe, Idade, Sexo, Sobreviveu) com 1313 instâncias, cada uma representando um dos passageiros ou tripulantes do RMS Titanic que naufragou no Oceano Atlântico em 15 de abril de 1912. \n",
    "\n",
    "Com esses dados queremos inferir se uma determinada pessoa sobreviveu ou não ao naufrágio ( `y = {Sobreviveu}` ), usando como base os atributos descritivos `× = {Classe, Idade, Sexo]`. Logo o problema em questão é de _Classificação_, e o atributo alvo _Sobreviveu_ contém apenas duas classes: `1`, se a pessoa sobreviveu e `0`, se a pessoa não sobreviveu."
   ]
  },
  {
   "cell_type": "code",
   "execution_count": 42,
   "id": "ae0a822a-3986-4ea4-b8ef-f54174c19225",
   "metadata": {},
   "outputs": [
    {
     "data": {
      "text/html": [
       "<div>\n",
       "<style scoped>\n",
       "    .dataframe tbody tr th:only-of-type {\n",
       "        vertical-align: middle;\n",
       "    }\n",
       "\n",
       "    .dataframe tbody tr th {\n",
       "        vertical-align: top;\n",
       "    }\n",
       "\n",
       "    .dataframe thead th {\n",
       "        text-align: right;\n",
       "    }\n",
       "</style>\n",
       "<table border=\"1\" class=\"dataframe\">\n",
       "  <thead>\n",
       "    <tr style=\"text-align: right;\">\n",
       "      <th></th>\n",
       "      <th>Nome</th>\n",
       "      <th>Classe</th>\n",
       "      <th>Idade</th>\n",
       "      <th>Sexo</th>\n",
       "      <th>Sobreviveu</th>\n",
       "    </tr>\n",
       "  </thead>\n",
       "  <tbody>\n",
       "    <tr>\n",
       "      <th>0</th>\n",
       "      <td>Allen, Miss Elisabeth Walton</td>\n",
       "      <td>1.0</td>\n",
       "      <td>29.00</td>\n",
       "      <td>F</td>\n",
       "      <td>1</td>\n",
       "    </tr>\n",
       "    <tr>\n",
       "      <th>1</th>\n",
       "      <td>Allison, Miss Helen Loraine</td>\n",
       "      <td>1.0</td>\n",
       "      <td>2.00</td>\n",
       "      <td>F</td>\n",
       "      <td>0</td>\n",
       "    </tr>\n",
       "    <tr>\n",
       "      <th>2</th>\n",
       "      <td>Allison, Mr Hudson Joshua Creighton</td>\n",
       "      <td>1.0</td>\n",
       "      <td>30.00</td>\n",
       "      <td>M</td>\n",
       "      <td>0</td>\n",
       "    </tr>\n",
       "    <tr>\n",
       "      <th>3</th>\n",
       "      <td>Allison, Mrs Hudson JC (Bessie Waldo Daniels)</td>\n",
       "      <td>1.0</td>\n",
       "      <td>25.00</td>\n",
       "      <td>F</td>\n",
       "      <td>0</td>\n",
       "    </tr>\n",
       "    <tr>\n",
       "      <th>4</th>\n",
       "      <td>Allison, Master Hudson Trevor</td>\n",
       "      <td>1.0</td>\n",
       "      <td>0.92</td>\n",
       "      <td>M</td>\n",
       "      <td>1</td>\n",
       "    </tr>\n",
       "  </tbody>\n",
       "</table>\n",
       "</div>"
      ],
      "text/plain": [
       "                                            Nome  Classe  Idade Sexo  \\\n",
       "0                   Allen, Miss Elisabeth Walton     1.0  29.00    F   \n",
       "1                    Allison, Miss Helen Loraine     1.0   2.00    F   \n",
       "2            Allison, Mr Hudson Joshua Creighton     1.0  30.00    M   \n",
       "3  Allison, Mrs Hudson JC (Bessie Waldo Daniels)     1.0  25.00    F   \n",
       "4                  Allison, Master Hudson Trevor     1.0   0.92    M   \n",
       "\n",
       "   Sobreviveu  \n",
       "0           1  \n",
       "1           0  \n",
       "2           0  \n",
       "3           0  \n",
       "4           1  "
      ]
     },
     "execution_count": 42,
     "metadata": {},
     "output_type": "execute_result"
    }
   ],
   "source": [
    "df = pd.read_csv(getDataByURL('https://query.data.world/s/c2ixg24yogu6pgudqodbhn5ynrvdjr'))\n",
    "\n",
    "df.head()"
   ]
  },
  {
   "cell_type": "code",
   "execution_count": 43,
   "id": "9030e11d-3697-48e4-94b4-9b33108d15dd",
   "metadata": {
    "jupyter": {
     "source_hidden": true
    },
    "tags": []
   },
   "outputs": [
    {
     "data": {
      "text/plain": [
       "1313"
      ]
     },
     "execution_count": 43,
     "metadata": {},
     "output_type": "execute_result"
    }
   ],
   "source": [
    "len(df)"
   ]
  },
  {
   "cell_type": "markdown",
   "id": "f1388d30-bb4f-4abd-b61f-59e97fc20140",
   "metadata": {},
   "source": [
    "#### Criando o atributo 'FaixaEtaria'\n",
    "\n",
    "A fim de simplificar nossas nálises, vamos discretizar o atributo numérico `idade`, transformando-o no atribuo categórico `FaixaEtaria`, contendo as seguintes classes conforme o intervalo de idades:  \n",
    "\n",
    "- 0 a 10: Criança\n",
    "- 11 a 18: Jovem\n",
    "- 19 a 50: Adulto\n",
    "- +50: Idoso\n",
    "- Não conhecida"
   ]
  },
  {
   "cell_type": "code",
   "execution_count": 44,
   "id": "4ef38918-0497-4205-b08d-c2eb678e4963",
   "metadata": {
    "jupyter": {
     "source_hidden": true
    },
    "tags": []
   },
   "outputs": [
    {
     "data": {
      "text/plain": [
       "array([29.  ,  2.  , 30.  , 25.  ,  0.92, 47.  , 63.  , 39.  , 58.  ,\n",
       "       71.  , 19.  ,   nan, 50.  , 24.  , 36.  , 37.  , 26.  , 28.  ,\n",
       "       45.  , 22.  , 41.  , 48.  , 44.  , 59.  , 60.  , 53.  , 33.  ,\n",
       "       14.  , 11.  , 49.  , 46.  , 27.  , 31.  , 64.  , 55.  , 70.  ,\n",
       "       69.  , 38.  , 17.  ,  4.  , 23.  , 35.  , 54.  , 21.  , 52.  ,\n",
       "       16.  , 51.  , 42.  , 40.  , 15.  , 65.  , 18.  , 56.  , 43.  ,\n",
       "       61.  , 13.  , 34.  ,  6.  , 57.  , 32.  , 62.  , 67.  , 20.  ,\n",
       "        1.  , 12.  ,  0.83,  8.  ,  7.  ,  3.  ,  0.8 ,  9.  ,  5.  ,\n",
       "        0.33,  0.17, 10.  ,  1.5 ])"
      ]
     },
     "execution_count": 44,
     "metadata": {},
     "output_type": "execute_result"
    }
   ],
   "source": [
    "df['Idade'].unique()"
   ]
  },
  {
   "cell_type": "code",
   "execution_count": 45,
   "id": "2fd8a7cb-691f-4334-b421-c584e01581d6",
   "metadata": {},
   "outputs": [
    {
     "data": {
      "text/plain": [
       "'Idoso'"
      ]
     },
     "execution_count": 45,
     "metadata": {},
     "output_type": "execute_result"
    }
   ],
   "source": [
    "# Transforma idade em faixa etária\n",
    "\n",
    "def faixaEtaria(idade):\n",
    "    \n",
    "    if idade == np.nan:\n",
    "        return 'NaoConhecida'\n",
    "    \n",
    "    if 0.0 <= idade <= 10.0:\n",
    "        return 'Crianca'\n",
    "    \n",
    "    if 11.0 <= idade <= 18.0:\n",
    "        return 'Jovem'\n",
    "    \n",
    "    if 19.0 <= idade <= 50.0:\n",
    "        return 'Adulto'\n",
    "    \n",
    "    if idade > 50.0:\n",
    "        return 'Idoso'\n",
    "\n",
    "faixaEtaria(51) # <-- teste"
   ]
  },
  {
   "cell_type": "markdown",
   "id": "abe290d0-aa4b-4307-bf81-9d0ddf170d50",
   "metadata": {},
   "source": [
    "Criando o atributo `FaixaEtaria` e associando à ele uma lista com os valores de faixa etária para cada valor de idade"
   ]
  },
  {
   "cell_type": "code",
   "execution_count": 46,
   "id": "b14cac24-226b-4657-8c11-2ba009fdf88b",
   "metadata": {},
   "outputs": [
    {
     "data": {
      "text/html": [
       "<div>\n",
       "<style scoped>\n",
       "    .dataframe tbody tr th:only-of-type {\n",
       "        vertical-align: middle;\n",
       "    }\n",
       "\n",
       "    .dataframe tbody tr th {\n",
       "        vertical-align: top;\n",
       "    }\n",
       "\n",
       "    .dataframe thead th {\n",
       "        text-align: right;\n",
       "    }\n",
       "</style>\n",
       "<table border=\"1\" class=\"dataframe\">\n",
       "  <thead>\n",
       "    <tr style=\"text-align: right;\">\n",
       "      <th></th>\n",
       "      <th>Nome</th>\n",
       "      <th>Classe</th>\n",
       "      <th>Idade</th>\n",
       "      <th>Sexo</th>\n",
       "      <th>Sobreviveu</th>\n",
       "      <th>FaixaEtaria</th>\n",
       "    </tr>\n",
       "  </thead>\n",
       "  <tbody>\n",
       "    <tr>\n",
       "      <th>0</th>\n",
       "      <td>Allen, Miss Elisabeth Walton</td>\n",
       "      <td>1.0</td>\n",
       "      <td>29.00</td>\n",
       "      <td>F</td>\n",
       "      <td>1</td>\n",
       "      <td>Adulto</td>\n",
       "    </tr>\n",
       "    <tr>\n",
       "      <th>1</th>\n",
       "      <td>Allison, Miss Helen Loraine</td>\n",
       "      <td>1.0</td>\n",
       "      <td>2.00</td>\n",
       "      <td>F</td>\n",
       "      <td>0</td>\n",
       "      <td>Crianca</td>\n",
       "    </tr>\n",
       "    <tr>\n",
       "      <th>2</th>\n",
       "      <td>Allison, Mr Hudson Joshua Creighton</td>\n",
       "      <td>1.0</td>\n",
       "      <td>30.00</td>\n",
       "      <td>M</td>\n",
       "      <td>0</td>\n",
       "      <td>Adulto</td>\n",
       "    </tr>\n",
       "    <tr>\n",
       "      <th>3</th>\n",
       "      <td>Allison, Mrs Hudson JC (Bessie Waldo Daniels)</td>\n",
       "      <td>1.0</td>\n",
       "      <td>25.00</td>\n",
       "      <td>F</td>\n",
       "      <td>0</td>\n",
       "      <td>Adulto</td>\n",
       "    </tr>\n",
       "    <tr>\n",
       "      <th>4</th>\n",
       "      <td>Allison, Master Hudson Trevor</td>\n",
       "      <td>1.0</td>\n",
       "      <td>0.92</td>\n",
       "      <td>M</td>\n",
       "      <td>1</td>\n",
       "      <td>Crianca</td>\n",
       "    </tr>\n",
       "  </tbody>\n",
       "</table>\n",
       "</div>"
      ],
      "text/plain": [
       "                                            Nome  Classe  Idade Sexo  \\\n",
       "0                   Allen, Miss Elisabeth Walton     1.0  29.00    F   \n",
       "1                    Allison, Miss Helen Loraine     1.0   2.00    F   \n",
       "2            Allison, Mr Hudson Joshua Creighton     1.0  30.00    M   \n",
       "3  Allison, Mrs Hudson JC (Bessie Waldo Daniels)     1.0  25.00    F   \n",
       "4                  Allison, Master Hudson Trevor     1.0   0.92    M   \n",
       "\n",
       "   Sobreviveu FaixaEtaria  \n",
       "0           1      Adulto  \n",
       "1           0     Crianca  \n",
       "2           0      Adulto  \n",
       "3           0      Adulto  \n",
       "4           1     Crianca  "
      ]
     },
     "execution_count": 46,
     "metadata": {},
     "output_type": "execute_result"
    }
   ],
   "source": [
    "df['FaixaEtaria'] = [faixaEtaria(idade) for idade in df['Idade'].values]\n",
    "\n",
    "df.head()"
   ]
  },
  {
   "cell_type": "markdown",
   "id": "17cb6cd1-8ce3-4fff-9db1-49ec25a732e1",
   "metadata": {},
   "source": [
    "#### Seleção de atributos\n",
    "\n",
    "Excluiremos do DataFrame os atributos `Nome` e `Idade`, pois não serão úteis em nossas nálises daqui para a frente, mantendo os atributos `Classe`, `FaixaEtaria` e `Sobreviveu`."
   ]
  },
  {
   "cell_type": "code",
   "execution_count": 47,
   "id": "0f6495bf-2937-42c1-88a5-9097a0078800",
   "metadata": {},
   "outputs": [
    {
     "data": {
      "text/html": [
       "<div>\n",
       "<style scoped>\n",
       "    .dataframe tbody tr th:only-of-type {\n",
       "        vertical-align: middle;\n",
       "    }\n",
       "\n",
       "    .dataframe tbody tr th {\n",
       "        vertical-align: top;\n",
       "    }\n",
       "\n",
       "    .dataframe thead th {\n",
       "        text-align: right;\n",
       "    }\n",
       "</style>\n",
       "<table border=\"1\" class=\"dataframe\">\n",
       "  <thead>\n",
       "    <tr style=\"text-align: right;\">\n",
       "      <th></th>\n",
       "      <th>Classe</th>\n",
       "      <th>FaixaEtaria</th>\n",
       "      <th>Sexo</th>\n",
       "      <th>Sobreviveu</th>\n",
       "    </tr>\n",
       "  </thead>\n",
       "  <tbody>\n",
       "    <tr>\n",
       "      <th>0</th>\n",
       "      <td>1.0</td>\n",
       "      <td>Adulto</td>\n",
       "      <td>F</td>\n",
       "      <td>1</td>\n",
       "    </tr>\n",
       "    <tr>\n",
       "      <th>1</th>\n",
       "      <td>1.0</td>\n",
       "      <td>Crianca</td>\n",
       "      <td>F</td>\n",
       "      <td>0</td>\n",
       "    </tr>\n",
       "    <tr>\n",
       "      <th>2</th>\n",
       "      <td>1.0</td>\n",
       "      <td>Adulto</td>\n",
       "      <td>M</td>\n",
       "      <td>0</td>\n",
       "    </tr>\n",
       "    <tr>\n",
       "      <th>3</th>\n",
       "      <td>1.0</td>\n",
       "      <td>Adulto</td>\n",
       "      <td>F</td>\n",
       "      <td>0</td>\n",
       "    </tr>\n",
       "    <tr>\n",
       "      <th>4</th>\n",
       "      <td>1.0</td>\n",
       "      <td>Crianca</td>\n",
       "      <td>M</td>\n",
       "      <td>1</td>\n",
       "    </tr>\n",
       "  </tbody>\n",
       "</table>\n",
       "</div>"
      ],
      "text/plain": [
       "   Classe FaixaEtaria Sexo  Sobreviveu\n",
       "0     1.0      Adulto    F           1\n",
       "1     1.0     Crianca    F           0\n",
       "2     1.0      Adulto    M           0\n",
       "3     1.0      Adulto    F           0\n",
       "4     1.0     Crianca    M           1"
      ]
     },
     "execution_count": 47,
     "metadata": {},
     "output_type": "execute_result"
    }
   ],
   "source": [
    "df = df[['Classe', 'FaixaEtaria', 'Sexo', 'Sobreviveu']]\n",
    "\n",
    "df.head()"
   ]
  },
  {
   "cell_type": "code",
   "execution_count": 48,
   "id": "a5df8c6b-09d1-4d41-97e8-6b31ecbbc0c4",
   "metadata": {},
   "outputs": [
    {
     "data": {
      "text/plain": [
       "Classe            1.0\n",
       "FaixaEtaria    Adulto\n",
       "Sexo                F\n",
       "Sobreviveu          0\n",
       "Name: 3, dtype: object"
      ]
     },
     "execution_count": 48,
     "metadata": {},
     "output_type": "execute_result"
    }
   ],
   "source": [
    "df.loc[3]"
   ]
  },
  {
   "cell_type": "markdown",
   "id": "508b0e7c-4e9d-4d01-91c4-68620f9dae17",
   "metadata": {},
   "source": [
    "#### Amostrando os conjuntos de Treino e de Teste\n",
    "\n",
    "A fim de investigar o poder de generalização dos métodos estudados, vamos separar os dados em dois conjuntos:\n",
    "\n",
    "- **Conjunto de Treino**: Contém 70% dos dados originais e será utilizado no processo de inferência\n",
    "- **Conjunto de Teste**: Contém 30% dos dados originais e será utilizado"
   ]
  },
  {
   "cell_type": "code",
   "execution_count": 49,
   "id": "77f39d58-5edc-45b2-b8fc-f68275a48516",
   "metadata": {},
   "outputs": [],
   "source": [
    "total = len(df.index)\n",
    "\n",
    "treino = df.iloc[: int(total * .7)]\n",
    "teste = df.iloc[ int(total * .7) :]"
   ]
  },
  {
   "cell_type": "code",
   "execution_count": 50,
   "id": "4fa99cba-d62e-4aaf-a3ff-3bf2b8170482",
   "metadata": {},
   "outputs": [
    {
     "data": {
      "text/plain": [
       "RangeIndex(start=0, stop=919, step=1)"
      ]
     },
     "execution_count": 50,
     "metadata": {},
     "output_type": "execute_result"
    }
   ],
   "source": [
    "treino.index"
   ]
  },
  {
   "cell_type": "markdown",
   "id": "dd3606d5-c72e-4690-866c-a1d06681883f",
   "metadata": {},
   "source": [
    "### Matriz de Confusão e Acurácia\n",
    "\n",
    "A matriz de confusão contém os valores:\n",
    "\n",
    "- $TP$ - Verdadeiros Positivos\n",
    "- $FP$ - Falsos Positivos\n",
    "- $TN$ - Verdadeiros Negativos\n",
    "- $FN$ - Falsos Negativos\n",
    "\n",
    "Com esses valores definimos a métrica de Acurácia $A_c \\in [0,1]$, tal que:  \n",
    "\n",
    "$$ A_c = {{TP + TN} \\over {TP + FP + TN + FN}} $$"
   ]
  },
  {
   "cell_type": "code",
   "execution_count": 51,
   "id": "40eb6b69-36c6-483f-b6ec-befac00e8b24",
   "metadata": {},
   "outputs": [],
   "source": [
    "def matrizConfusao(esperados, estimados):\n",
    "    \n",
    "    tp, fp, tn, fn = 0, 0, 0, 0\n",
    "    \n",
    "    for par in zip(esperados, estimados):\n",
    "        \n",
    "        if par[0] and par[1]:\n",
    "            tp += 1\n",
    "        \n",
    "        if par[0] and not par[1]:\n",
    "            fn += 1\n",
    "        \n",
    "        if not par[0] and not par[1]:\n",
    "            tn += 1\n",
    "        \n",
    "        if not par[0] and par[1]:\n",
    "            fp += 1\n",
    "\n",
    "    return np.array([tp, fp, tn, fn])"
   ]
  },
  {
   "cell_type": "code",
   "execution_count": 52,
   "id": "d72dc613-4c4c-4eb7-aeac-e1cb281224b6",
   "metadata": {},
   "outputs": [],
   "source": [
    "def acuracia(esperados, estimados):\n",
    "    n = len(esperados)\n",
    "    \n",
    "    tp, fp, tn, fn = matrizConfusao(esperados, estimados)\n",
    "    \n",
    "    return (tp + tn)/n"
   ]
  },
  {
   "cell_type": "code",
   "execution_count": 53,
   "id": "12c72f1c-3b8c-41ac-bb08-e3d54536ffc4",
   "metadata": {},
   "outputs": [
    {
     "data": {
      "text/plain": [
       "0.5"
      ]
     },
     "execution_count": 53,
     "metadata": {},
     "output_type": "execute_result"
    }
   ],
   "source": [
    "# teste\n",
    "\n",
    "esperados = [0, 0, 0, 0]\n",
    "estimados = [0, 1, 0, 1]\n",
    "\n",
    "acuracia(esperados, estimados)"
   ]
  },
  {
   "cell_type": "markdown",
   "id": "8efa9296-55cd-4fbc-90ef-5576fca8ec7e",
   "metadata": {},
   "source": [
    "# kNN\n",
    "\n",
    "K-Vizinhos Mais Próximos"
   ]
  },
  {
   "cell_type": "markdown",
   "id": "9107e54c-1fb9-4fe4-be17-709376177527",
   "metadata": {},
   "source": [
    "## Função de distância\n",
    "\n",
    "Uma função de distância $d : \\mathbb{R}^n, \\mathbb{R}^n \\rightarrow \\mathbb{R}^+$ é uma função que calcula a similaridade de dois vetores $\\alpha \\in \\mathbb{R}^n$ e $\\beta \\in \\mathbb{R}^n$ através de sua distância no espaço $\\mathbb{R}^n$.\n",
    "\n",
    "No caso de instâncias em que os valores não são reais, mas categóricos, uma função de distância comum é a [Distância de Hamming](https://pt.wikipedia.org/wiki/Distância_de_Hamming), que pode ser definida como:\n",
    "\n",
    "$$d(\\alpha, \\beta) = \\sum_{i=0}^{n} \\mathbb{I}(\\alpha[i] \\ne \\beta[i])$$\n",
    "\n",
    "Onde $\\mathbb{I}$(expressão)$\\{$retorna $1$ se expressão for verdadeira e $0$ se falsa$\\}$ é a função indicadora."
   ]
  },
  {
   "cell_type": "code",
   "execution_count": 54,
   "id": "1cb90d1a-b268-4dbe-b003-1faaacd309c4",
   "metadata": {},
   "outputs": [],
   "source": [
    "def distanciaHamming(a,b):\n",
    "    return sum( [a[key] != b[key] for key in a.keys()] )"
   ]
  },
  {
   "cell_type": "code",
   "execution_count": 55,
   "id": "9b556b08-d63f-4f2c-9422-18e7a10d23f8",
   "metadata": {},
   "outputs": [
    {
     "data": {
      "text/plain": [
       "1"
      ]
     },
     "execution_count": 55,
     "metadata": {},
     "output_type": "execute_result"
    }
   ],
   "source": [
    "#teste\n",
    "\n",
    "a = {'a':1, 'b': 0, 'c':1}\n",
    "b = {'a':1, 'b': 1, 'c':1}\n",
    "\n",
    "distanciaHamming(a,b)"
   ]
  },
  {
   "cell_type": "markdown",
   "id": "869ee388-5b9f-4294-a52c-5f2b5ab09b95",
   "metadata": {},
   "source": [
    "Na nossa implementação a Distância de Hamming é normalizado no intervalo $[0,1]$"
   ]
  },
  {
   "cell_type": "code",
   "execution_count": 56,
   "id": "05704838-f562-4f9d-933a-ccae3e26c12a",
   "metadata": {},
   "outputs": [],
   "source": [
    "def distanciaHammingNormalizada(a, b):\n",
    "    return distanciaHamming(a,b)/len(a.keys())"
   ]
  },
  {
   "cell_type": "code",
   "execution_count": 57,
   "id": "cb56fbba-41ec-470c-b57d-3be604f6713d",
   "metadata": {},
   "outputs": [
    {
     "data": {
      "text/plain": [
       "0.3333333333333333"
      ]
     },
     "execution_count": 57,
     "metadata": {},
     "output_type": "execute_result"
    }
   ],
   "source": [
    "#teste\n",
    "\n",
    "a = {'a':1, 'b': 0, 'c':1}\n",
    "b = {'a':1, 'b': 1, 'c':1}\n",
    "\n",
    "distanciaHammingNormalizada(a,b)"
   ]
  },
  {
   "cell_type": "markdown",
   "id": "5e932f21-5ed5-49db-ab33-a3b9946c4637",
   "metadata": {},
   "source": [
    "Uma aplicação possível é:"
   ]
  },
  {
   "cell_type": "code",
   "execution_count": 58,
   "id": "9a90fb6f-3af7-4930-b63d-2d80ee50b508",
   "metadata": {},
   "outputs": [
    {
     "name": "stdout",
     "output_type": "stream",
     "text": [
      "Passageiro 1: \n",
      "=============\n",
      "\n",
      "Classe             1.0\n",
      "FaixaEtaria    Crianca\n",
      "Sexo                 F\n",
      "Sobreviveu           0\n",
      "Name: 1, dtype: object\n",
      "\n",
      "\n",
      "Passageiro 2: \n",
      "=============\n",
      "\n",
      "Classe            1.0\n",
      "FaixaEtaria    Adulto\n",
      "Sexo                M\n",
      "Sobreviveu          0\n",
      "Name: 2, dtype: object\n",
      "\n",
      "\n",
      "Distância: 0.5\n"
     ]
    }
   ],
   "source": [
    "print(\"Passageiro 1: \\n{}\\n\\n{}\\n\\n\".format( \"=\"*13, df.iloc[1]))\n",
    "\n",
    "print(\"Passageiro 2: \\n{}\\n\\n{}\\n\\n\".format( \"=\"*13, df.iloc[2]))\n",
    "\n",
    "print(\"Distância: {}\".format(distanciaHammingNormalizada(df.iloc[1], df.iloc[2])))"
   ]
  },
  {
   "cell_type": "markdown",
   "id": "d8233ce1-a0f5-4d10-a7b5-9ee9085400af",
   "metadata": {},
   "source": [
    "## Função de Mesclagem"
   ]
  },
  {
   "cell_type": "code",
   "execution_count": 59,
   "id": "c5034bb7-d1e5-44af-830f-533fb532c8da",
   "metadata": {},
   "outputs": [],
   "source": [
    "from collections import Counter"
   ]
  },
  {
   "cell_type": "code",
   "execution_count": 60,
   "id": "29ae51ed-ba3a-4f65-851e-33eec9f14201",
   "metadata": {},
   "outputs": [],
   "source": [
    "def maisFrequente(array):\n",
    "    frequencias = Counter(array)\n",
    "    return max(frequencias, key=frequencias.get)"
   ]
  },
  {
   "cell_type": "code",
   "execution_count": 61,
   "id": "6713a8bd-54ec-4b7e-a518-9c4e0afc1bb3",
   "metadata": {},
   "outputs": [
    {
     "data": {
      "text/plain": [
       "0"
      ]
     },
     "execution_count": 61,
     "metadata": {},
     "output_type": "execute_result"
    }
   ],
   "source": [
    "maisFrequente([1,1,0,0,1,0,0]) # teste"
   ]
  },
  {
   "cell_type": "markdown",
   "id": "fe8ec1f1-c3a0-45d6-aa2d-ceb4dd303e88",
   "metadata": {},
   "source": [
    "### Calculando e ordenando distâncias"
   ]
  },
  {
   "cell_type": "code",
   "execution_count": 62,
   "id": "0e4a5759-582d-436c-9334-d3298827d9fb",
   "metadata": {},
   "outputs": [],
   "source": [
    "x = {'Sexo': 'M', 'FaixaEtaria': 'Adulto', 'Classe': 3.0}"
   ]
  },
  {
   "cell_type": "markdown",
   "id": "8ce880c7-5c67-4e3e-b055-913032a502fe",
   "metadata": {},
   "source": [
    "##### Calculando distâncias"
   ]
  },
  {
   "cell_type": "code",
   "execution_count": 63,
   "id": "0359d422-e568-452c-8b35-31fc2d5ccb39",
   "metadata": {},
   "outputs": [],
   "source": [
    "distancias = { indice: distanciaHammingNormalizada(x, treino.loc[indice]) for indice in treino.index}"
   ]
  },
  {
   "cell_type": "markdown",
   "id": "5938c10d-f9c0-4fe0-ad80-3d90f548b156",
   "metadata": {},
   "source": [
    "##### Ordenando Índices por Distâncias"
   ]
  },
  {
   "cell_type": "code",
   "execution_count": 64,
   "id": "38526cbf-d855-423a-9688-2287d0137624",
   "metadata": {},
   "outputs": [],
   "source": [
    "indices = sorted(distancias, key=distancias.get)"
   ]
  },
  {
   "cell_type": "markdown",
   "id": "872d74cb-c5e2-4c7f-a313-a9291d26fc55",
   "metadata": {},
   "source": [
    "### Selecionando os vizinhos mais próximos e mesclando os valores"
   ]
  },
  {
   "cell_type": "code",
   "execution_count": 65,
   "id": "b4e2532e-6dc0-4f7a-84b2-db62a3c8eb9a",
   "metadata": {},
   "outputs": [
    {
     "data": {
      "text/html": [
       "<div>\n",
       "<style scoped>\n",
       "    .dataframe tbody tr th:only-of-type {\n",
       "        vertical-align: middle;\n",
       "    }\n",
       "\n",
       "    .dataframe tbody tr th {\n",
       "        vertical-align: top;\n",
       "    }\n",
       "\n",
       "    .dataframe thead th {\n",
       "        text-align: right;\n",
       "    }\n",
       "</style>\n",
       "<table border=\"1\" class=\"dataframe\">\n",
       "  <thead>\n",
       "    <tr style=\"text-align: right;\">\n",
       "      <th></th>\n",
       "      <th>Classe</th>\n",
       "      <th>FaixaEtaria</th>\n",
       "      <th>Sexo</th>\n",
       "      <th>Sobreviveu</th>\n",
       "    </tr>\n",
       "  </thead>\n",
       "  <tbody>\n",
       "    <tr>\n",
       "      <th>602</th>\n",
       "      <td>3.0</td>\n",
       "      <td>Adulto</td>\n",
       "      <td>M</td>\n",
       "      <td>0</td>\n",
       "    </tr>\n",
       "    <tr>\n",
       "      <th>607</th>\n",
       "      <td>3.0</td>\n",
       "      <td>Adulto</td>\n",
       "      <td>M</td>\n",
       "      <td>1</td>\n",
       "    </tr>\n",
       "    <tr>\n",
       "      <th>609</th>\n",
       "      <td>3.0</td>\n",
       "      <td>Adulto</td>\n",
       "      <td>M</td>\n",
       "      <td>1</td>\n",
       "    </tr>\n",
       "  </tbody>\n",
       "</table>\n",
       "</div>"
      ],
      "text/plain": [
       "     Classe FaixaEtaria Sexo  Sobreviveu\n",
       "602     3.0      Adulto    M           0\n",
       "607     3.0      Adulto    M           1\n",
       "609     3.0      Adulto    M           1"
      ]
     },
     "execution_count": 65,
     "metadata": {},
     "output_type": "execute_result"
    }
   ],
   "source": [
    "vizinhos = treino.loc[indices[ :3]]\n",
    "\n",
    "vizinhos"
   ]
  },
  {
   "cell_type": "code",
   "execution_count": 66,
   "id": "bd572371-5aae-40ff-ad71-daafb0f6a09d",
   "metadata": {},
   "outputs": [
    {
     "data": {
      "text/plain": [
       "1"
      ]
     },
     "execution_count": 66,
     "metadata": {},
     "output_type": "execute_result"
    }
   ],
   "source": [
    "y = maisFrequente(vizinhos['Sobreviveu'].values)\n",
    "\n",
    "y"
   ]
  },
  {
   "cell_type": "markdown",
   "id": "9a842526-a10c-41ee-beea-120b2edcaeda",
   "metadata": {},
   "source": [
    "## Algoritmo kNN"
   ]
  },
  {
   "cell_type": "code",
   "execution_count": 67,
   "id": "5bafcc85-3a47-4362-9240-b59074f7c1bc",
   "metadata": {},
   "outputs": [],
   "source": [
    "def kNN(dados, k, x, y, funcaoDistancia, funcaoMesclagem):\n",
    "    \n",
    "    distancias = { indice: funcaoDistancia(x, dados.iloc[indice]) for indice in dados.index}\n",
    "    \n",
    "    indices = sorted(distancias, key=distancias.get)\n",
    "    \n",
    "    vizinhos = dados.loc[indices[ :k]]\n",
    "    \n",
    "    yEstimado = funcaoMesclagem(vizinhos[y].values)\n",
    "    \n",
    "    return yEstimado"
   ]
  },
  {
   "cell_type": "code",
   "execution_count": 68,
   "id": "6bb903de-6137-42b5-ad20-d1f2156cb5de",
   "metadata": {
    "tags": []
   },
   "outputs": [
    {
     "data": {
      "text/plain": [
       "1"
      ]
     },
     "execution_count": 68,
     "metadata": {},
     "output_type": "execute_result"
    }
   ],
   "source": [
    "passageiro = {'Sexo': 'F', 'FaixaEtaria': 'Adulto', 'Classe': 1.0}\n",
    "\n",
    "kNN(\n",
    "    treino,\n",
    "    2,\n",
    "    passageiro,\n",
    "    'Sobreviveu',\n",
    "    distanciaHammingNormalizada,\n",
    "    maisFrequente\n",
    ")"
   ]
  },
  {
   "cell_type": "markdown",
   "id": "e14c9a27-6994-4d56-b6b1-153d37e3c34b",
   "metadata": {},
   "source": [
    "## Teste do modelo"
   ]
  },
  {
   "cell_type": "code",
   "execution_count": 69,
   "id": "79203f06-e3dd-4c94-a650-ff06258fa2e7",
   "metadata": {},
   "outputs": [
    {
     "data": {
      "text/plain": [
       "0.7233502538071066"
      ]
     },
     "execution_count": 69,
     "metadata": {},
     "output_type": "execute_result"
    }
   ],
   "source": [
    "x = ['Sexo', 'Classe', 'FaixaEtaria']\n",
    "y = 'Sobreviveu'\n",
    "\n",
    "esperados = [] # valores existentes no conjunto de testes\n",
    "estimados = [] # gerados pelo kNN\n",
    "\n",
    "for indice in teste.index:\n",
    "    instancia = teste.loc[indice]\n",
    "    \n",
    "    esperados.append(instancia[y])\n",
    "    \n",
    "    consulta = {chave: instancia[chave] for chave in x}\n",
    "    \n",
    "    y_est = kNN(treino, 2, consulta, y, distanciaHammingNormalizada, maisFrequente)\n",
    "    \n",
    "    estimados.append(y_est)\n",
    "\n",
    "acuracia(esperados, estimados)"
   ]
  },
  {
   "cell_type": "markdown",
   "id": "cf25ace3-4c8b-4882-8415-a6fd5222e64c",
   "metadata": {},
   "source": [
    "## Naïve Bayes\n",
    "\n",
    "##### Regra de Bayes\n",
    "\n",
    "$$P(y|x) = {{P(x|y) \\cdot P(y)} \\over {P(x)}}$$\n",
    "\n",
    "_onde:_\n",
    "\n",
    "- $x$ _são os valores dos atributos descritivos (ou a evidência)_\n",
    "- $y$ _é o valor do atributo alvo (ou hipótese)_\n",
    "- $P(x|y)$ _é a probabilidade à posteriore_\n",
    "- $P(x|y)$ _é a verossimilhança_\n",
    "- $P(y)$ _é a probabilidade à priori_\n",
    "- $P(x)$ _é a probabilidade da evidência_"
   ]
  },
  {
   "cell_type": "markdown",
   "id": "59453ff5-35a0-4393-b2b6-c87187464270",
   "metadata": {},
   "source": [
    "#### Probabilidade da evidência - $P(x)$"
   ]
  },
  {
   "cell_type": "code",
   "execution_count": 78,
   "id": "50d00107-cdad-4780-b48f-b2ff93ecbc5d",
   "metadata": {},
   "outputs": [
    {
     "data": {
      "text/plain": [
       "0.24156692056583243"
      ]
     },
     "execution_count": 78,
     "metadata": {},
     "output_type": "execute_result"
    }
   ],
   "source": [
    "# Tamanho total do conjunto de dados\n",
    "n = len(treino.index)\n",
    "\n",
    "# Atributos descritivos\n",
    "x = \"Sexo == 'M' & Classe == 3\"\n",
    "\n",
    "# Filtra o conjunto de dados a partir dos atributos descritivos\n",
    "xDados = treino.query(x)\n",
    "\n",
    "# Tamanho total do filtro\n",
    "xn = len(xDados.index)\n",
    "\n",
    "# Probabilidade Empírica P(x)\n",
    "px = xn/n\n",
    "\n",
    "px"
   ]
  },
  {
   "cell_type": "markdown",
   "id": "4a07fb80-a272-43f7-8b61-5ebbde10bc38",
   "metadata": {},
   "source": [
    "#### Probabilidade à priori - $P(y)$"
   ]
  },
  {
   "cell_type": "code",
   "execution_count": 79,
   "id": "24be71f5-123d-4f6e-b2c3-bf92989c5bc0",
   "metadata": {},
   "outputs": [
    {
     "data": {
      "text/plain": [
       "array([1, 0])"
      ]
     },
     "execution_count": 79,
     "metadata": {},
     "output_type": "execute_result"
    }
   ],
   "source": [
    "# Número de classes do atributo alvo\n",
    "classes = treino['Sobreviveu'].unique()\n",
    "\n",
    "classes"
   ]
  },
  {
   "cell_type": "code",
   "execution_count": 80,
   "id": "6eadb1e6-9707-4d83-8f85-c9f4bc3e2855",
   "metadata": {},
   "outputs": [
    {
     "data": {
      "text/plain": [
       "{1: 0.42219804134929273, 0: 0.5778019586507073}"
      ]
     },
     "execution_count": 80,
     "metadata": {},
     "output_type": "execute_result"
    }
   ],
   "source": [
    "# Dicionário que conterá as probabilidades P(y) para cada classe de y\n",
    "py = {}\n",
    "\n",
    "for classe in classes:\n",
    "    \n",
    "    # Filtra o conjunto de dados a partir dos atributos alvo\n",
    "    yDados = treino.query(\"Sobreviveu == {}\".format(classe))\n",
    "    \n",
    "    # Tamanho do filtro\n",
    "    yn = len(yDados.index)\n",
    "    \n",
    "    # Probabilidade à priori da classe y (P(y))\n",
    "    py[classe] = yn/n\n",
    "    \n",
    "\n",
    "py\n",
    "    "
   ]
  },
  {
   "cell_type": "markdown",
   "id": "fe957dd6-90bf-4018-8ea4-992a898babac",
   "metadata": {},
   "source": [
    "#### Verossimilhança - $P(x|y) = {P(x,y) \\over P(y)}$"
   ]
  },
  {
   "cell_type": "code",
   "execution_count": 81,
   "id": "0f71fa39-136d-4f16-bef5-851841d15c01",
   "metadata": {},
   "outputs": [
    {
     "data": {
      "text/plain": [
       "{1: 0.07731958762886598, 0: 0.3615819209039548}"
      ]
     },
     "execution_count": 81,
     "metadata": {},
     "output_type": "execute_result"
    }
   ],
   "source": [
    "# Dicionário que conterá as probabilidades P(x|y) para cada classe de y\n",
    "pxy = {}\n",
    "\n",
    "for classe in classes:\n",
    "    \n",
    "    # Filtra o conjunto de dados a partir dos atributos descritivos e dos atributos alvo\n",
    "    xyDados = treino.query(\"{} & Sobreviveu == {}\".format(x, classe))\n",
    "    \n",
    "    # Tamanho do filtro\n",
    "    xyn = len(xyDados.index)\n",
    "    \n",
    "    # Verossimilhança dos atributos descritivos em relação aos atributos alvo\n",
    "    pxy[classe] = (xyn/n)/py[classe]\n",
    "\n",
    "pxy"
   ]
  },
  {
   "cell_type": "markdown",
   "id": "49a2fbe8-ffdc-44aa-ba38-2eb33ef4e631",
   "metadata": {},
   "source": [
    "#### Probabilidade à Posteriori - $P(y|x) = {{P(x|y) \\cdot P(y)} \\over {P(x)}}$"
   ]
  },
  {
   "cell_type": "code",
   "execution_count": 82,
   "id": "865958f3-c1f1-4375-9f71-9db78283aa83",
   "metadata": {},
   "outputs": [
    {
     "data": {
      "text/plain": [
       "{1: 0.13513513513513514, 0: 0.8648648648648649}"
      ]
     },
     "execution_count": 82,
     "metadata": {},
     "output_type": "execute_result"
    }
   ],
   "source": [
    "# Dicionário que conterá as probabilidades P(y|x) para cada classe de y\n",
    "pyx = {}\n",
    "\n",
    "for classe in classes:\n",
    "    # Regra de Bayes P(y|x) = (P(x|y)*P(y))/P(x)\n",
    "    pyx[classe] = (pxy[classe]*py[classe])/px\n",
    "\n",
    "pyx"
   ]
  },
  {
   "cell_type": "markdown",
   "id": "357b9b8c-e7f5-4cf7-86b9-23959d8f2787",
   "metadata": {},
   "source": [
    "### Máximo à Posteriori - $MAP$\n",
    "\n",
    "A classificação é decidida pela classe $y_i$ que maximizar a probabilidade à posteriori $P(y_i|x)$  \n",
    "\n",
    "$$y_{MAP} = \\arg\\max_{y_i}P(y_i|x) $$"
   ]
  },
  {
   "cell_type": "code",
   "execution_count": 83,
   "id": "46351941-cb2b-4459-98e6-f4a1f3f96fe4",
   "metadata": {},
   "outputs": [
    {
     "data": {
      "text/plain": [
       "0"
      ]
     },
     "execution_count": 83,
     "metadata": {},
     "output_type": "execute_result"
    }
   ],
   "source": [
    "max(pyx, key=pyx.get)"
   ]
  },
  {
   "cell_type": "markdown",
   "id": "93d57e1b-e05f-46d5-9416-53b9340843b3",
   "metadata": {},
   "source": [
    "## Algorítmo Naïve Bayes"
   ]
  },
  {
   "cell_type": "code",
   "execution_count": 86,
   "id": "52ab08ce-6cbb-49e1-a8d3-c37815af6a73",
   "metadata": {},
   "outputs": [],
   "source": [
    "def naiveBayes(dados, x, y):\n",
    "    n = dados.size\n",
    "    \n",
    "    # Probabilidade da evidência P(x)\n",
    "    xDados = dados.query(x)\n",
    "    xn = xDados.size\n",
    "    px = xn/n\n",
    "    \n",
    "    # Probabilidade à priori P(y) por classe\n",
    "    classes = dados[y].unique()\n",
    "    py = {}\n",
    "    \n",
    "    for classe in classes:\n",
    "    \n",
    "        yDados = dados.query(\"{} == {}\".format(y, classe))\n",
    "        yn = yDados.size\n",
    "        \n",
    "        py[classe] = yn/n\n",
    "    \n",
    "    # Verossimilhança P(x|y) por classe\n",
    "    pxy = {}\n",
    "    \n",
    "    for classe in classes:\n",
    "        xyDados = dados.query(\"{} & {} == {}\".format(x, y, classe))\n",
    "        xyn = xyDados.size\n",
    "        \n",
    "        pxy[classe] = (xyn/n)/py[classe]\n",
    "    \n",
    "    # Probabilidade à posteriori - P(y|x) por classe\n",
    "    pyx = {}\n",
    "    \n",
    "    for classe in classes:\n",
    "        # Teorema de Bayes P(y|x) = (P(x|y)*P(y))/P(x)\n",
    "        pyx[classe] = (pxy[classe]*py[classe])/px\n",
    "    \n",
    "    return max(pyx, key=pyx.get)"
   ]
  },
  {
   "cell_type": "code",
   "execution_count": 91,
   "id": "bc66916d-d5dc-4f1f-87b6-b4611f5a2be1",
   "metadata": {},
   "outputs": [
    {
     "data": {
      "text/plain": [
       "1"
      ]
     },
     "execution_count": 91,
     "metadata": {},
     "output_type": "execute_result"
    }
   ],
   "source": [
    "naiveBayes(treino, \"Sexo == 'F' & Classe == 1\", 'Sobreviveu')"
   ]
  },
  {
   "cell_type": "code",
   "execution_count": 89,
   "id": "010113e1-dde9-4013-803f-c75fc875e628",
   "metadata": {},
   "outputs": [
    {
     "data": {
      "text/plain": [
       "0"
      ]
     },
     "execution_count": 89,
     "metadata": {},
     "output_type": "execute_result"
    }
   ],
   "source": [
    "naiveBayes(treino, \"FaixaEtaria == 'Adulto' & Classe == 3\", 'Sobreviveu')"
   ]
  },
  {
   "cell_type": "markdown",
   "id": "17efbe85-29b8-443d-aa0d-38dfc576e23c",
   "metadata": {},
   "source": [
    "### Teste do modelo"
   ]
  },
  {
   "cell_type": "code",
   "execution_count": 97,
   "id": "fbccd582-c741-45b5-9d34-2749ecd4cd53",
   "metadata": {},
   "outputs": [
    {
     "name": "stderr",
     "output_type": "stream",
     "text": [
      "/var/folders/2y/q957rqmj3c1ckz7t4qg_1cdr0000gn/T/ipykernel_32293/1784555562.py:34: RuntimeWarning: invalid value encountered in scalar divide\n",
      "  pyx[classe] = (pxy[classe]*py[classe])/px\n"
     ]
    },
    {
     "data": {
      "text/plain": [
       "0.8426395939086294"
      ]
     },
     "execution_count": 97,
     "metadata": {},
     "output_type": "execute_result"
    }
   ],
   "source": [
    "x = ['Sexo', 'Classe', 'FaixaEtaria']\n",
    "y = 'Sobreviveu'\n",
    "\n",
    "esperados = []\n",
    "estimados = []\n",
    "\n",
    "for indice in teste.index:\n",
    "    instancia = teste.loc[indice]\n",
    "    \n",
    "    esperados.append(instancia[y])\n",
    "    \n",
    "    tmp = [ \"{} == '{}'\".format(chave, instancia[chave]) for chave in x ]\n",
    "    consulta = ' & '.join(tmp)\n",
    "    \n",
    "    y_est = naiveBayes(teste, consulta, y)\n",
    "    \n",
    "    estimados.append(y_est)\n",
    "\n",
    "acuracia(esperados, estimados)"
   ]
  },
  {
   "cell_type": "code",
   "execution_count": null,
   "id": "d467cda0-068f-4f49-9a6e-f54992ff6987",
   "metadata": {},
   "outputs": [],
   "source": []
  }
 ],
 "metadata": {
  "kernelspec": {
   "display_name": "Python 3 (ipykernel)",
   "language": "python",
   "name": "python3"
  },
  "language_info": {
   "codemirror_mode": {
    "name": "ipython",
    "version": 3
   },
   "file_extension": ".py",
   "mimetype": "text/x-python",
   "name": "python",
   "nbconvert_exporter": "python",
   "pygments_lexer": "ipython3",
   "version": "3.10.4"
  }
 },
 "nbformat": 4,
 "nbformat_minor": 5
}

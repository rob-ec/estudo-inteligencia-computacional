{
 "cells": [
  {
   "cell_type": "markdown",
   "id": "8b6211a9-bcd5-4915-b0a8-2f5fda6297ca",
   "metadata": {},
   "source": [
    "# Inteligência Computacional\n",
    "\n",
    "Robson Mesquita Gomes  \n",
    "[<robson.mesquita56@gmail>](mailto:robson.mesquita56@gmail.com)"
   ]
  },
  {
   "cell_type": "markdown",
   "id": "3b9f547a-cfff-4cff-9e47-3330ad0ca626",
   "metadata": {},
   "source": [
    "## Introdução\n",
    "\n",
    "Nessa etapa discorreremos sobre conceitos introdutórios à disciplina e discutiremos alguns dos pilares da construção de soluções nessa àrea."
   ]
  },
  {
   "cell_type": "markdown",
   "id": "d082fba9-9b9f-41d6-9c32-e2c0e5e04775",
   "metadata": {},
   "source": [
    "### Conhecimentos prévios nessessários\n",
    "\n",
    "Inteligência Computacional é um tema abrangente, o escopo do que pode tratar cada tópico é quase ilimitado. Para nos atermos a base podemos concluir a necessidade de conhecimentos intermediários a avançados em **Teoria dos Consjuntos**, **Probabilidade e Estatística** e **Programação**."
   ]
  },
  {
   "cell_type": "markdown",
   "id": "1afa54ad-0100-4f2b-af79-6fc4f04617d0",
   "metadata": {},
   "source": [
    "### Reflexões iniciais\n",
    "\n",
    "Ao pensarmos em Inteligência Computacional e do que ela trata podemos entrar em diversos debates filosóficos. O prórpio nome exige uma definição sobre o que é inteligência e como essa definição se aplicaria à um computador. Pode um computador ser inteligente? O que é então inteligência e conhecimento? O que é aprender? O que é memória e como armazená-la?\n",
    "\n",
    "A computação é conhecida como ciência exata, porém para várias perguntas a resposta inicial (mesmo que não a final) será um concreto e rispido \"depende\". Em I.C. não será diferente, ao invés de consolidar uma única resposta absoluta e verdadeira, cada modelo, a sua maneira, responde à essas perguntas de forma diferente, sendo estas respostas verdadeiras ao menos para os problemas para os quais foram criados para resolver."
   ]
  },
  {
   "cell_type": "markdown",
   "id": "e8e77201-7cfe-4102-9962-df5122d2898e",
   "metadata": {},
   "source": [
    "### Propósito\n",
    "\n",
    "A criação de modelos em I.C. consiste em produzir ferramentas **autônomas** e **flexíveis** que conseguem **aprender** a partir de **dados** e **resolver problemas** tomando decisões complexas **não previamente programadas**."
   ]
  },
  {
   "cell_type": "markdown",
   "id": "84b96460-2139-4d01-814c-1393abefc119",
   "metadata": {},
   "source": [
    "## História\n",
    "\n",
    "Para se compreender os objetivos e características principais de uma àrea, bem como seus principais jargões é necessário entender quais suas origens. Para isso nessa sessão faremos uma breve discussão sobre algumas das principais evoluções em Inteligência Computacional ao longo dos anos."
   ]
  },
  {
   "cell_type": "markdown",
   "id": "22d13225-089e-450a-9fbc-45580d6ac320",
   "metadata": {},
   "source": [
    "### Pré-informática\n",
    "\n",
    "Antes dos anos 50 temos a era pré informática, onde os modelos de previsão eram puramente matemáticos e estatísticos."
   ]
  },
  {
   "cell_type": "markdown",
   "id": "b895418b-fac9-4fdf-83e5-159b3a706127",
   "metadata": {},
   "source": [
    "### 1950\n",
    "\n",
    "Da década de 50 em diante a humanidade passa a ter acesso a um ferramental mais informatizado. \n",
    "\n",
    "Nos anos inicias haviam mainframes com baixo poder computacional (se comparados com os que temos no século 21). O início da computação também é marcado pelo baixo poder de armazenamento e o que se havia disponível representava um custo muito alto.\n",
    "\n",
    "Essa época também é marcada pela programação procedural, inferência a partir de dados, conhecimento programável e modelos lógico-simbólicos."
   ]
  },
  {
   "cell_type": "markdown",
   "id": "af92d8dd-45a0-43bb-875d-9335401fc4a3",
   "metadata": {},
   "source": [
    "### 1980\n",
    "\n",
    "Na década de 80 surgem os primeiros modelos de Inteligência Artificial (I.A.). As tecnologias de armazenamento são barateadas possibilitando o uso mais amplo de Bancos de Dados. Surgem novos paradigmas de programação. A Internet dá seus primeiros passos com o início do uso de redes locais.\n",
    "\n",
    "Esse momento da história também marca o surgimento do conceito de Aprendizagem de Máquina (Machine Learning) onde novos modelos de conhecimento foram desenvolvidos e algoritmos que conseguem \"aprender\" esses modelos a partir de dados foram criados e o uso dos chamados Dados Estrutuarais foi implementado."
   ]
  },
  {
   "cell_type": "markdown",
   "id": "8d0e8926-4f5a-4ccf-98f0-e45c8508e49b",
   "metadata": {},
   "source": [
    "### 2010\n",
    "\n",
    "A expansão da Internet e facilitação do acesso à informática proporcionou a criação do que é chamado _Big Data_ (dados não estruturados de alta dimensionalidade), essa quantidade de dados possibilitou o desenvolvimento do Aprendizado Profundo (_Deep Learning_), do Paradigma Conexionista (Redes Neurais Covolucionais) e de modelos complexos com dezenas a centenas de módulos (camadas). O processamento desse tipo de modelo foi possível graças ao desenvolvimento das GPUs (Unidades de Processamento Gráfico) que serviram como alicerse para o desenvolvimento de diversas I.A.'s."
   ]
  },
  {
   "cell_type": "markdown",
   "id": "6f34836a-03d4-4771-936b-39f284d5f146",
   "metadata": {
    "tags": []
   },
   "source": [
    "## Base da problemática\n",
    "\n",
    "Um dos pilares da Inteligência Computacional é a seguinte equação:\n",
    "\n",
    "$$Y=G(X)$$\n",
    "\n",
    "_Onde $G$ é o **processo gerador de dados** que transforma uma entrada $X$ em uma saída $Y$._\n",
    "\n",
    "Para resolução de problemáticas relacionadas à Inteligência Computacional não temos acesso a $G$, pois a verdadeira função $G$ é inacessível ou desconhecida, seja por não termos dados suficientes para inferi-la com exatidão ou por descrever um acontecimento em um sistema muito complexo (como o mundo real) cuja inferência de tal função seja extraordinariamente custosa.\n",
    "\n",
    "Só temos acesso à um conjunto de exemplos, os pares $X,Y$ que foram amostrados. Ainda assim não temos como garantir que essa amostra cobre todos os casos e possibilidades da função desconhecida $G$."
   ]
  },
  {
   "cell_type": "markdown",
   "id": "ed77e8ce-0b80-4ac6-bc30-04e2e2d31c82",
   "metadata": {},
   "source": [
    "## Modelo I.C.\n",
    "\n",
    "Como não temos acesso a $G$ buscamos métodos de inferir uma aproximação suficientemente confiável para casos semelhantes aos disponíveis em nossa amostra. Chamamos essa amostra de Modelo I.C.  \n",
    "\n",
    "_Um **Modelo I.C.** é uma função $f$ que aproxima $G$ com base nos dados de exemplo/amostra $X,Y$._\n",
    "\n",
    "$$Ỹ = f(X), Ỹ \\approx Y$$\n"
   ]
  },
  {
   "cell_type": "markdown",
   "id": "98a75837-b98d-4183-bea0-c1d24458d4ac",
   "metadata": {},
   "source": [
    "### Aproximação do Modelo\n",
    "\n",
    "Para realizar a aproximação em $f$ precisamos primeiramente selecionar um conjunto de treinamento que servirá para preparar nossa função para o cumprimento de seu propósito.\n",
    "\n",
    "#### Treinamento ($F$)\n",
    "\n",
    "Definido o conjunto de treinamento com pares de valores $X$ e $Y$, onde $X$ é a informação conhecida e $Y$ é a informação que desejamos prever a partir de $X$, é utilizada uma função de treinamento ($F$) que \"aprende\" a transformar $X$ em $Y$ e armazena esse \"conhecimento\" nos parâmetros ($\\theta$). \n",
    "\n",
    "Deve ser considerado também que esse treinamento possui algum grau de incerteza, logo possui uma margem de erro ($\\epsilon$) a ser considerada.  \n",
    "\n",
    "Logo podemos definir uma função de treinamento como:\n",
    "\n",
    "$$\\theta,\\epsilon = F(X,Y)$$\n",
    "\n",
    "#### Aproximação ($f$)\n",
    "\n",
    "Utilizando os parâmetros gerados por $F$ a função $f$ estima um valor $Ỹ$, que aproxima um valor desconhecido $Y$, a partir de valores conhecidos $Y$.\n",
    "\n",
    "$$Ỹ = f(X, \\theta) + \\epsilon$$\n",
    "\n",
    "Note que inevitavelmente o modelo gerado possui uma margem de erro, $\\epsilon$, pois trata-se de uma aproximação.\n",
    "\n",
    "$$\\epsilon = Ỹ - Y$$"
   ]
  },
  {
   "cell_type": "markdown",
   "id": "8d840a2f-755d-4b7e-890d-19f396293105",
   "metadata": {},
   "source": [
    "> _\"Essencialmente todos os modelos   \n",
    "> estão errados, mas alguns são úteis\"_  \n",
    ">  \n",
    "> [George E. P. Box](https://pt.wikipedia.org/wiki/George_E._P._Box)"
   ]
  },
  {
   "cell_type": "markdown",
   "id": "cb6c04df-4025-4977-9e3b-36ad91fc4674",
   "metadata": {},
   "source": [
    "### Definição de modelos\n",
    "\n",
    "De maneira geral podemos afirmar que um Modelo I.C. possui as seguintes características:\n",
    "\n",
    "- **Método de aprendizado ($F$)**  \n",
    "  _\\[como aprende\\]_\n",
    "- **Modelo de conhecimento ($\\theta$)**  \n",
    "  _\\[como representa o \"conhecimento\"\\]_\n",
    "  - **Caixa Preta**: Método em que se é possível conhecer seu funcionamento e lógica interna\n",
    "  - **Caixa Branca**: Método em que não se é possível compreender o \"conhecimento\" gerado pelos algoritmos\n",
    "- **Método de inferência ($f$)**  \n",
    "  _\\[como se usa\\]_\n",
    "  \n",
    "Para facilitar a visualização podemos organizar as informações conforme a tabela abaixo.\n",
    "\n",
    "\n",
    "| Notação  |          Característica          |                            Descrição                               |\n",
    "|----------|----------------------------------|--------------------------------------------------------------------|\n",
    "|     X    | Dados de Entrada _(treinamento)_ | Dados que temos                                                    |\n",
    "|     Y    | Dados de Saída _(treinamento)_   | Dados que desejamos prever                                         |\n",
    "|     F    | Função de Treinamento            | Aprende $\\theta$ a partir dos dados disponíveis                    |\n",
    "|     f    | Função de Inferência             | Usa $\\theta$ para inferir $y$ a partir dos valores $x$ disponíveis |\n",
    "| $\\theta$ | Parâmetros                       | Representação do \"conhecimento\"                                    |\n",
    "|$\\epsilon$| Incerteza ($ \\epsilon = Ỹ - Y $) | Margem de erro padrão das previsões realizadas                     |\n",
    "|     Ỹ    | Estimativa                       | Previsão de $Y$ (baseado em $X$) mais a incerteza $\\epsilon$       |\n",
    "\n",
    "### Aplicação\n",
    "\n",
    "Para aplicação de um Modelo I.C. podemos seguir o seguinte passo a passo:\n",
    "\n",
    "1. Definir problema a ser resolvido;\n",
    "2. Definir quais dados se têm acesso ($X$);  \n",
    "3. Avaliar dados disponíveis e, se nessessário, melhorar a qualidade dos mesmos;\n",
    "4. Defina a abordagem, isso inclui método de treinamento ($F$) e inferência ($f$);\n",
    "5. Treine e avalie os modelos;\n",
    "6. $f$ resolve o problema? **se não** retorne ao passo 2, **se sim** implementar solução."
   ]
  },
  {
   "cell_type": "markdown",
   "id": "984b9dad-8572-41ce-bbe5-2f0ee49c2ef0",
   "metadata": {},
   "source": [
    "## Resumo"
   ]
  },
  {
   "cell_type": "markdown",
   "id": "97ac8d79-ba2e-4423-bf65-7256f46042e9",
   "metadata": {},
   "source": [
    "**Sistema observado:**  \n",
    "\n",
    "$$Y=G(X)$$\n",
    "\n",
    "_Onde_\n",
    "- _$G$: Processo gerador de dados, que transforma a informação $X$ em $Y$._\n",
    "\n",
    "**Aproximação:**\n",
    "\n",
    "$$\\theta, \\epsilon = F(X,Y)$$\n",
    "$$Ỹ = f(X, \\theta) + \\epsilon$$\n",
    "\n",
    "_Onde_\n",
    "- _$F$: Função de treinamento;_\n",
    "- _$\\theta$: Parâmetros;_\n",
    "- _$\\epsilon$: Margem de erro;_\n",
    "- _$f$: Função de aproximação._"
   ]
  },
  {
   "cell_type": "code",
   "execution_count": null,
   "id": "0370c2e8-a9d5-4132-af1a-db121d78213d",
   "metadata": {},
   "outputs": [],
   "source": []
  }
 ],
 "metadata": {
  "kernelspec": {
   "display_name": "Python 3 (ipykernel)",
   "language": "python",
   "name": "python3"
  },
  "language_info": {
   "codemirror_mode": {
    "name": "ipython",
    "version": 3
   },
   "file_extension": ".py",
   "mimetype": "text/x-python",
   "name": "python",
   "nbconvert_exporter": "python",
   "pygments_lexer": "ipython3",
   "version": "3.10.4"
  }
 },
 "nbformat": 4,
 "nbformat_minor": 5
}

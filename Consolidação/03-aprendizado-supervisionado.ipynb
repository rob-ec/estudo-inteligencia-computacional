{
 "cells": [
  {
   "cell_type": "markdown",
   "id": "ca9b2067-1249-4df3-8898-ac47fbca1f8c",
   "metadata": {},
   "source": [
    "# I.C.: Aprendizado Supervisionado\n",
    "\n",
    "Robson Mesquita Gomes  \n",
    "[<robson.mesquita56@gmail>](mailto:robson.mesquita56@gmail.com)"
   ]
  },
  {
   "cell_type": "markdown",
   "id": "71597318-7701-4045-89b7-9b3bb1a39a28",
   "metadata": {},
   "source": [
    "## Introdução\n",
    "\n",
    "Diferente dos métodos Transdutivos os métodos de aprendizado supervizionado tratam da Inferência Indutiva/Indução onde os dados são utilizados para gerar uma representação compacta (modelo) e que generalize as informações contidas nos dados."
   ]
  },
  {
   "cell_type": "markdown",
   "id": "38a9fbc8-0daf-4961-9c0e-cc8bae16f6ee",
   "metadata": {
    "tags": []
   },
   "source": [
    "###### Importações iniciais"
   ]
  },
  {
   "cell_type": "code",
   "execution_count": 5,
   "id": "b0ed7f0d-9134-4f7e-9720-794f3504df75",
   "metadata": {},
   "outputs": [],
   "source": [
    "import pandas as pd\n",
    "import numpy as np\n",
    "import matplotlib.pyplot as plt"
   ]
  },
  {
   "cell_type": "markdown",
   "id": "61dcc2ca-cfc4-40d9-b69f-de3f1d80f2ea",
   "metadata": {},
   "source": [
    "###### Definições de visualização"
   ]
  },
  {
   "cell_type": "code",
   "execution_count": 29,
   "id": "259254c1-97c6-4fda-89ec-91e396d04624",
   "metadata": {},
   "outputs": [],
   "source": [
    "color = { \n",
    "    'red': '#c1586fff', \n",
    "    'green': '#4b95a1ff', \n",
    "    'gold': '#c4996cff', \n",
    "    'black': '#1c1e25ff', \n",
    "    'gray': '#5c626eff',\n",
    "    'dark_gray': '#383d4bff',\n",
    "    'light_gray':'#999faaff',\n",
    "}"
   ]
  },
  {
   "cell_type": "markdown",
   "id": "2ddead05-a447-4e93-bf74-05476e063836",
   "metadata": {},
   "source": [
    "### Referências da problemática base\n",
    "\n",
    "Para compreender melhor a sessão a seguir é interessante que se se relembre:\n",
    "\n",
    " **Sistema observado:**  \n",
    " \n",
    " $$Y=G(X)$$\n",
    " \n",
    " _Onde_\n",
    " - _$G$: Processo gerador de dados, que transforma a informação $X$ em $Y$._\n",
    " \n",
    " **Aproximação:**\n",
    " \n",
    " $$\\theta, \\epsilon = F(X,Y)$$\n",
    " $$Ỹ = f(X, \\theta) + \\epsilon$$\n",
    " \n",
    " _Onde_\n",
    " - _$F$: Função de treinamento;_\n",
    " - _$\\theta$: Parâmetros;_\n",
    " - _$\\epsilon$: Margem de erro;_\n",
    " - _$f$: Função de aproximação._\n",
    "\n",
    " **Características de um Modelo I.C.**\n",
    "\n",
    " | Notação  |          Característica          |                            Descrição                               |\n",
    " |----------|----------------------------------|--------------------------------------------------------------------|\n",
    " |     X    | Dados de Entrada _(treinamento)_ | Dados que temos                                                    |\n",
    " |     Y    | Dados de Saída _(treinamento)_   | Dados que desejamos prever                                         |\n",
    " |     F    | Função de Treinamento            | Aprende $\\theta$ a partir dos dados disponíveis                    |\n",
    " |     f    | Função de Inferência             | Usa $\\theta$ para inferir $y$ a partir dos valores $x$ disponíveis |\n",
    " | $\\theta$ | Parâmetros                       | Representação do \"conhecimento\"                                    |\n",
    " |$\\epsilon$| Incerteza ($ \\epsilon = Ỹ - Y $) | Margem de erro padrão das previsões realizadas                     |\n",
    " |     Ỹ    | Estimativa                       | Previsão de $Y$ (baseado em $X$) mais a incerteza $\\epsilon$       |"
   ]
  },
  {
   "cell_type": "markdown",
   "id": "224e57a0-bed7-4d1b-bfb1-927675d047a1",
   "metadata": {},
   "source": [
    "### Modelo\n",
    "\n",
    "Um modelo é um conjunto de parâmetros que serão utilizados pela função de inferência. Esses parâmetros descrevem, ou melhor, generalizam o conjunto de dados possiblitando assim a utilização desses parâmetros no lugar dos próprios dados."
   ]
  },
  {
   "cell_type": "markdown",
   "id": "c454be4f-e542-4315-8551-9f750a384e34",
   "metadata": {},
   "source": [
    "#### Sinal e Ruído\n",
    "\n",
    "$$Dados = Sinal + Ruído$$\n",
    "\n",
    "#### Sinal\n",
    "\n",
    "Trata-se da informação relevante contida nos dados que descreve o comportamento médio e generaliza os dados.\n",
    "\n",
    "#### Ruído\n",
    "\n",
    "É definido por pequenas variações no comportamento geral, características específicas de uma instância, que diferem (para mais ou para menos) do comportamento geral. Trata-se da variância em torno do comportamento médio."
   ]
  },
  {
   "cell_type": "markdown",
   "id": "c033b02d-d05b-4afb-a001-6d7e0a859a35",
   "metadata": {},
   "source": [
    "#### Objetivos dos modelos de aprendizado supervisionado\n",
    "\n",
    "Considerando a existência de ruído nos dados obtidos o objetivo dos modelos construídos com base em técnicaas de aprendizado supervisionado se torna filtrar/separar o sinal do ruído nos dados. Isto posto, o melhor sinal fica definido como aquele que generaliza os dados e a melhor generalização é aquela que minimiza o erro. Ao levarmos em conta também o custo computacional um bom modelo é, sem dúvida alguma, àquele que consegue representar o sinal da maneira mais eficiente possível."
   ]
  },
  {
   "cell_type": "markdown",
   "id": "c88a93a9-7f27-4417-95a1-cb5cde77af14",
   "metadata": {},
   "source": [
    "### Função de treinamento ($F$)\n",
    "\n",
    "Nos modelos de aprendizado supervizionado a Função de Treinamento ($F$) é basicamente um método de otimização. O objetivo de $F$ é encontrar o melhor conjunto de parâmetros ($\\theta$) que minimize a incerteza ($\\epsilon$).\n",
    "\n",
    "$$\\theta, \\epsilon = F(f, L, \\Omega, \\mathcal{D})$$\n",
    "\n",
    "Onde:\n",
    "\n",
    "- $\\Omega$: Hiperparâmetros\n",
    "- $\\theta$: Modelo/Parâmetros\n",
    "- $f$: Função de Inferência\n",
    "- $L$: Função de Custos\n",
    "- $D$: Dados de treinamento"
   ]
  },
  {
   "cell_type": "markdown",
   "id": "2143de56-3fbf-4613-8f77-f3e70fa21b26",
   "metadata": {},
   "source": [
    "#### Função de custo ($L$)\n",
    "\n",
    "Considerando que a incerteza é um dos pontos mais importantes para aferição de precisão, precisamos de uma função que nos restorne tal informação. A essa função chamamos de Função de Custo ($L$).\n",
    "\n",
    "$$L(y, ỹ) = {\\sum_{i=0}^{n}(y_i-ỹ_i)^2 \\over n}$$\n",
    "\n",
    "Onde:\n",
    "- $ỹ$: saídas estimadas\n",
    "- $y$: saídas esperadas"
   ]
  },
  {
   "cell_type": "markdown",
   "id": "a67e6e4e-5311-4e51-8659-5f396fbb4af9",
   "metadata": {},
   "source": [
    "#### Algoritmo\n",
    "\n",
    "**função** $F(f, L, \\Omega, \\mathcal{D}):$\n",
    "\n",
    "$\\theta \\leftarrow$ inicializar_parâmetros($\\Omega$)\n",
    "\n",
    "$\\theta \\leftarrow \\arg \\min_{\\theta, \\epsilon} L(\\mathcal{D}, f, \\theta)$\n",
    "\n",
    "**retorna** $\\theta, \\epsilon$\n",
    "\n",
    "**fimfunção**\n",
    "\n",
    "##### Algoritmos de treinamento exatos: Mínimos Quadrados\n",
    "\n",
    "**Mínimos Quadrados:**\n",
    "\n",
    "$$a = { {\\sum_{i=0}^{n}(x_i - \\mathbb{E}[x])(y_i - \\mathbb{E}[y])} \\over {\\sum_{i=0}^{n}}(x_i - \\mathbb{E}[x])^2 }$$\n",
    "\n",
    "$$b = \\mathbb{E}[y] - a \\cdot \\mathbb{E}[x]$$\n",
    "\n",
    "**Mínimos Quadrados Ordinários**\n",
    "\n",
    "$$W = (X^T X)^{-1} X^T Y$$"
   ]
  },
  {
   "cell_type": "markdown",
   "id": "0771b05a-5bf8-4f3b-ab40-016ea756e638",
   "metadata": {},
   "source": [
    "### Função de inferência (f)\n",
    "\n",
    "#### Regressão linear\n",
    "\n",
    "Uma das funções de inferência mais \"simples\" é a de regressão linear.\n",
    "\n",
    "$$ f: \\mathbb{R} \\rightarrow \\mathbb{R} $$\n",
    "$$ ỹ = a \\cdot x + b $$"
   ]
  },
  {
   "cell_type": "markdown",
   "id": "94e17768-0971-4340-9d93-4c2c780ba9a4",
   "metadata": {},
   "source": [
    "##### Demonstração"
   ]
  },
  {
   "cell_type": "code",
   "execution_count": 6,
   "id": "a074cde6-f5cb-41c5-82d8-72c4f429e34e",
   "metadata": {},
   "outputs": [],
   "source": [
    "x = np.array([value for value in np.arange(-2.0, 2.0, 0.1)])\n",
    "\n",
    "n = len(x)"
   ]
  },
  {
   "cell_type": "markdown",
   "id": "5ec30514-e9e0-4f87-be35-8ad173065881",
   "metadata": {},
   "source": [
    "$$y_i = {-1.9 \\cdot x_i - \\pi + \\mathcal{N}(\\mu = 0, \\sigma = 0.5)}$$"
   ]
  },
  {
   "cell_type": "code",
   "execution_count": 24,
   "id": "b1a91ef9-563c-4ddf-9833-f2d1e8601d39",
   "metadata": {},
   "outputs": [
    {
     "data": {
      "text/plain": [
       "<matplotlib.collections.PathCollection at 0x13e93c640>"
      ]
     },
     "execution_count": 24,
     "metadata": {},
     "output_type": "execute_result"
    },
    {
     "data": {
      "image/png": "[encoded data removed]",
      "text/plain": [
       "<Figure size 640x480 with 1 Axes>"
      ]
     },
     "metadata": {},
     "output_type": "display_data"
    }
   ],
   "source": [
    "y = np.array([-1.9*xi - np.pi + np.random.normal(0, 0.5, 1) for xi in x]).flatten()\n",
    "\n",
    "plt.scatter(x,y, c=color['green'])"
   ]
  },
  {
   "cell_type": "markdown",
   "id": "4b1c6d91-8ec8-42b4-8bd5-1fb758780ac2",
   "metadata": {},
   "source": [
    "### Função de Treinamento: Mínimos Quadrados\n",
    "\n",
    "Para a função de inferência $ỹ = f(x)$, tal que $f(x) = ax +b$, para encontrar o conjunto de parâmetros $\\theta = \\{a,b\\}$ usam-se as fórmulas abaixo.\n",
    "\n",
    "$$a = { {\\sum_{i=0}^{n}(x - \\bar{x})(y - \\bar{y})} \\over {\\sum_{i=0}^{n}}(x_i - \\bar{x})^2 }$$\n",
    "\n",
    "$$b = \\bar{y} - a\\cdot \\bar{x}$$\n",
    "\n",
    "Onde $\\bar{x}$ e $\\bar{y}$ são os valores médios de $x$ e $y$ respectivamente."
   ]
  },
  {
   "cell_type": "code",
   "execution_count": 9,
   "id": "bc0240a5-eb15-435e-bb16-287bbfa9201c",
   "metadata": {},
   "outputs": [],
   "source": [
    "x = np.array([value for value in np.arange(-2.0, 2.0, 0.1)])\n",
    "\n",
    "n = len(x)"
   ]
  },
  {
   "cell_type": "markdown",
   "id": "29d5e9f7-defd-4a97-b8d7-72d8ca6995d3",
   "metadata": {},
   "source": [
    "$$y_i = {-1.9 \\cdot x_i - \\pi + \\mathcal{N}(\\mu = 0, \\sigma = 0.5)}$$"
   ]
  },
  {
   "cell_type": "code",
   "execution_count": 10,
   "id": "bb0efc59-a5e8-492b-9761-b614d43b0ded",
   "metadata": {},
   "outputs": [],
   "source": [
    "y = np.array([-1.9*xi - np.pi + np.random.normal(0, 0.5, 1) for xi in x]).flatten()"
   ]
  },
  {
   "cell_type": "code",
   "execution_count": 11,
   "id": "1eb83680-6ed2-42f4-997f-4ae2ce789b2b",
   "metadata": {},
   "outputs": [
    {
     "data": {
      "text/plain": [
       "[-1.8787210217718011, -3.0385531630783342]"
      ]
     },
     "execution_count": 11,
     "metadata": {},
     "output_type": "execute_result"
    }
   ],
   "source": [
    "a,b = 0,0\n",
    "xm = np.average(x)\n",
    "ym = np.average(y)\n",
    "\n",
    "num = np.sum([ (x[i] - xm)*(y[i] -ym) for i in range(n) ])\n",
    "den = np.sum([ (x[i] - xm)**2 for i in range(n) ])\n",
    "\n",
    "a = num/den\n",
    "b = ym - a * xm\n",
    "\n",
    "[a, b]"
   ]
  },
  {
   "cell_type": "markdown",
   "id": "fdc37459-56fa-42dc-8ce9-5e124fbf51de",
   "metadata": {},
   "source": [
    "#### Estimativa\n",
    "\n",
    "$$y_i = a \\cdot x_i + b$$"
   ]
  },
  {
   "cell_type": "code",
   "execution_count": 25,
   "id": "45813757-ccba-48c1-b2ba-f84f2909eda8",
   "metadata": {},
   "outputs": [
    {
     "data": {
      "text/plain": [
       "<matplotlib.collections.PathCollection at 0x13e846b00>"
      ]
     },
     "execution_count": 25,
     "metadata": {},
     "output_type": "execute_result"
    },
    {
     "data": {
      "image/png": "[encoded data removed]",
      "text/plain": [
       "<Figure size 640x480 with 1 Axes>"
      ]
     },
     "metadata": {},
     "output_type": "display_data"
    }
   ],
   "source": [
    "yt = [ a*x[i] + b for i in range(n) ]\n",
    "\n",
    "plt.scatter(x,y, c=color['green'])\n",
    "plt.scatter(x,yt, c=color['red'])"
   ]
  },
  {
   "cell_type": "markdown",
   "id": "78721ded-76f6-4717-b568-6a0484933c38",
   "metadata": {},
   "source": [
    "### Função de Treinamento por Indução Iterativas\n",
    "\n",
    "**função** $F(f, L, \\Omega, \\mathcal{D})$:\n",
    "\n",
    "$\\theta \\leftarrow$ inicializar_parâmetros($\\Omega$)\n",
    "\n",
    "**enquanto** ( ($\\epsilon \\leftarrow L$($\\mathcal{D}$, $f$, $\\theta$)) > critério_de_parada($\\Omega$) ):  \n",
    "\n",
    "$\\theta \\leftarrow $ atualizar_parâmetros($\\theta$, $\\epsilon$, $\\Omega$)\n",
    "\n",
    "**fimenquanto**\n",
    "\n",
    "**retorna** $\\theta$\n",
    "\n",
    "**fimfunção**"
   ]
  },
  {
   "cell_type": "markdown",
   "id": "e402e542-94f5-416f-b914-3f8cc7100361",
   "metadata": {},
   "source": [
    "#### Gradiente Descendente (GD)\n",
    "\n",
    "$\\theta \\leftarrow$ Valores Aleatórios\n",
    "\n",
    "$\\alpha \\leftarrow$ 0.005\n",
    "\n",
    "$\\forall x,y \\in \\mathcal{D}:$\n",
    "\n",
    "$$ỹ \\leftarrow f(x, \\theta)$$\n",
    "\n",
    "$$\\epsilon \\leftarrow L(y, ỹ)$$\n",
    "\n",
    "$$\\theta \\leftarrow { { \\theta - \\alpha } \\cdot { {\\delta \\epsilon} \\over { \\delta \\theta } } }$$\n",
    "\n",
    "Onde:\n",
    "\n",
    "- $\\alpha$: Taxa de aprendizado\n",
    "- $ỹ \\leftarrow f(x, \\theta)$: Método de inferência\n",
    "- $\\epsilon \\leftarrow L(y, ỹ)$: Cálculo do erro\n",
    "- $\\theta \\leftarrow { { \\theta - \\alpha } \\cdot { {\\delta \\epsilon} \\over { \\delta \\theta } } }$: Atualização dos parâmetros com base na derivada de $L$"
   ]
  },
  {
   "cell_type": "markdown",
   "id": "d3128bf0-de53-442f-9523-b9f6e9bf8a2b",
   "metadata": {},
   "source": [
    "##### Porque utilizar derivadas (${\\delta \\epsilon}\\over{\\delta \\theta}$) em GD\n",
    "\n",
    "> \"A função é uma bacia e queremos chegar ao fundo dela!\"\n",
    ">\n",
    "> Prof. Dr. Petrônio Silva\n",
    "\n",
    "A derivada define uma taxa de mudança, o gradiente observa para onde a função está crescendo ou diminuindo, nesse caso, quando a derivada é diferente de zero a função está \"se movimentando\", caso contrário ela está \"parada\". Observa-se então que quanto maior a derivada, mais a função está longe do mínimo e quanto menor a derivada, mais a função está perto do mínimo.\n",
    "\n",
    "Com isso em mente temos as seguintes missões para cada uma das partes do algoritmo.\n",
    "\n",
    "- $ỹ \\leftarrow f(x, \\theta)$:  \n",
    "  Estima uma saída com base nos valores de entrada e nos parâmetros.\n",
    "- $\\epsilon \\leftarrow L(y, ỹ)$:  \n",
    "  Calcula o erro da estimativa gerada por $f$ tomando como base os valores corretos.\n",
    "- ${\\delta \\epsilon} \\over { \\delta \\theta }$:  \n",
    "  Calcula o quanto cada parâmetro do modelo contribui para o erro total\n",
    "- $\\theta \\leftarrow { { \\theta - \\alpha } \\cdot { {\\delta \\epsilon} \\over { \\delta \\theta } } }$:  \n",
    "  Corrige o parâmetro com base na sua contribuição com o erro total\n",
    "  \n",
    "  \n",
    "###### Pequena tabela de derivadas\n",
    "\n",
    "Nota: $y' = {{\\delta y}\\over{\\delta x}}$\n",
    "\n",
    "| Função                  | Derivada                                                                                      |\n",
    "|-------------------------|-----------------------------------------------------------------------------------------------|\n",
    "| $y {= a}$               | ${{\\delta y}\\over{\\delta x}} = 0$                                                             |\n",
    "| $y {= ax}$              | ${{\\delta y}\\over{\\delta x}} = a$                                                             |\n",
    "| $y {= x^n}$             | ${{\\delta y}\\over{\\delta x}} {= {nx^{n-1}}}$                                                  |\n",
    "| $y {= {{f(x)}{+g(x)}}}$ | ${{\\delta y}\\over{\\delta x}} {= {{{\\delta f}\\over{\\delta x}} + {{\\delta g}\\over{\\delta x}}}}$ |\n",
    "| $y {= {f(g(x))}}$       | ${{\\delta y}\\over{\\delta x}} {= {f'({g(x)})}{+g'(x)}}$                                        |"
   ]
  },
  {
   "cell_type": "markdown",
   "id": "9cfeda1a-e013-4df2-b9df-acc7aaf6426d",
   "metadata": {},
   "source": [
    "###### Derivadas do erro quadrático\n",
    "\n",
    "Para a **função de inferência $f$** temos\n",
    "\n",
    "$$ỹ = {f(x,a,b)} = {ax+b}$$\n",
    "\n",
    "Nesse caso, as derivadas parciais de $f$ são\n",
    "\n",
    "$${{\\delta ỹ} \\over {\\delta a}} = x$$  \n",
    "\n",
    "$${{\\delta ỹ} \\over {\\delta b}} = 1$$\n",
    "\n",
    "Já para a **função $L$ que calcula o erro $\\epsilon$** temos\n",
    "\n",
    "$${\\epsilon} = {L(x,y,a,b)} = {(y-ỹ)^2} = {(y-f(x,a,b))^2} = {(y-ax-b)^2}$$\n",
    "\n",
    "Para esse caso as derivadas parciais de $\\epsilon$ são\n",
    "\n",
    "$${{\\delta \\epsilon} \\over {\\delta f}} = 2\\epsilon$$\n",
    "\n",
    "$${{\\delta \\epsilon} \\over {\\delta a}} = \n",
    "{{\\delta \\epsilon} \\over {\\delta f}} \\cdot {{\\delta \\epsilon} \\over {\\delta a}} = \n",
    "2 \\cdot \\epsilon \\cdot (-x)$$\n",
    "\n",
    "$${{\\delta \\epsilon} \\over {\\delta b}} = \n",
    "{{\\delta \\epsilon} \\over {\\delta f}} \\cdot {{\\delta \\epsilon} \\over {\\delta b}} = \n",
    "2 \\cdot \\epsilon \\cdot (-1)$$"
   ]
  },
  {
   "cell_type": "markdown",
   "id": "5fad3ec7-0533-466b-a016-6d240d96132a",
   "metadata": {},
   "source": [
    "###### Derivadas do erro quadrático médio\n",
    "\n",
    "Para a **função de inferência $f$** temos\n",
    "\n",
    "$$ỹ = {f(x,a,b)} = {ax+b}$$\n",
    "\n",
    "Nesse caso, as derivadas parciais de $f$ são\n",
    "\n",
    "$${{\\delta ỹ} \\over {\\delta a}} = x$$  \n",
    "\n",
    "$${{\\delta ỹ} \\over {\\delta b}} = 1$$\n",
    "\n",
    "Já para a **função $L$ que calcula o erro $\\epsilon$** temos\n",
    "\n",
    "$${\\epsilon} = {L(x,y,a,b)} = {(y_i-ỹ_i)^2} = \\sum_{i=0}^{n}{(y_i-f(x_i,a,b))^2} = \\sum_{i=0}^{n}{(y_i-ax_i-b)^2}$$\n",
    "\n",
    "Para esse caso as derivadas parciais de $\\epsilon$ são\n",
    "\n",
    "$${{\\delta \\epsilon} \\over {\\delta f}} = 2\\epsilon$$\n",
    "\n",
    "$${{\\delta \\epsilon} \\over {\\delta a}} = \n",
    "{{\\delta \\epsilon} \\over {\\delta f}} \\cdot {{\\delta \\epsilon} \\over {\\delta a}} = \n",
    "2 \\cdot \\epsilon \\cdot (-x)$$\n",
    "\n",
    "$${{\\delta \\epsilon} \\over {\\delta b}} = \n",
    "{{\\delta \\epsilon} \\over {\\delta f}} \\cdot {{\\delta \\epsilon} \\over {\\delta b}} = \n",
    "2 \\cdot \\epsilon \\cdot (-1)$$"
   ]
  },
  {
   "cell_type": "markdown",
   "id": "d6f2de32-a6c1-4caf-94cc-011e772dcac9",
   "metadata": {},
   "source": [
    "#### Treinamento Iterativo: Gradiente Descendente\n",
    "\n",
    "$a \\leftarrow $ valor aleatório\n",
    "\n",
    "$b \\leftarrow $ valor aleatório\n",
    "\n",
    "$\\alpha \\leftarrow 0.005$\n",
    "\n",
    "$\\forall x,y \\in \\mathcal{D}:$\n",
    "\n",
    "$$ỹ \\leftarrow ax+b$$\n",
    "$$\\epsilon \\leftarrow (y - ỹ)$$\n",
    "$$a \\leftarrow a - \\alpha(-2 \\cdot \\epsilon \\cdot x)$$\n",
    "$$b \\leftarrow b - \\alpha(-2 \\cdot \\epsilon)$$"
   ]
  },
  {
   "cell_type": "code",
   "execution_count": 16,
   "id": "b42b9170-413c-47e0-b4a7-aeda7b07608d",
   "metadata": {},
   "outputs": [],
   "source": [
    "x = np.array([value for value in np.arange(-2.0, 2.0, 0.1)])\n",
    "\n",
    "n = len(x)"
   ]
  },
  {
   "cell_type": "markdown",
   "id": "e6e559f0-8267-461b-bc49-d173b9e21cf3",
   "metadata": {},
   "source": [
    "$$y_i = {-1.9 \\cdot x_i - \\pi + \\mathcal{N}(\\mu = 0, \\sigma = 0.5)}$$"
   ]
  },
  {
   "cell_type": "code",
   "execution_count": 17,
   "id": "5ea57043-e6bf-4f86-8ab2-1a8d35f3a0b4",
   "metadata": {},
   "outputs": [],
   "source": [
    "y = np.array([-1.9*xi - np.pi + np.random.normal(0, 0.5, 1) for xi in x]).flatten()"
   ]
  },
  {
   "cell_type": "code",
   "execution_count": 26,
   "id": "7b24046e-5880-4c67-9a04-81f1ad2fe2c8",
   "metadata": {},
   "outputs": [
    {
     "data": {
      "text/plain": [
       "[-1.8505572177991165, -3.0227460194583142]"
      ]
     },
     "execution_count": 26,
     "metadata": {},
     "output_type": "execute_result"
    },
    {
     "data": {
      "image/png": "[encoded data removed]",
      "text/plain": [
       "<Figure size 640x480 with 1 Axes>"
      ]
     },
     "metadata": {},
     "output_type": "display_data"
    }
   ],
   "source": [
    "# Inicializando parâmetros\n",
    "\n",
    "a = np.random.normal(0, 0.5)\n",
    "b = np.random.normal(0, 0.5)\n",
    "\n",
    "# Hiperparâmetros\n",
    "\n",
    "alpha = 0.005 # Taxa de aprendizado\n",
    "iteracoes = 30\n",
    "\n",
    "historico = [] # Curva de aprendizado\n",
    "\n",
    "# Algoritmo do Gradiente Descendente\n",
    "\n",
    "for g in range(iteracoes):\n",
    "    for i in range(n):\n",
    "        estimativa = a * x[i] + b # função de inferência (f)\n",
    "        erro = y[i] - estimativa # função de custo (L)\n",
    "        \n",
    "        # Salva o erro quadrático atual\n",
    "        historico.append(erro**2)\n",
    "        \n",
    "        # Atualização dos parâmetros\n",
    "        a = a - alpha * ( -2 * erro * x[i])\n",
    "        b = b - alpha * ( -2 * erro)\n",
    "        \n",
    "plt.plot(historico, c=color['green'])\n",
    "plt.ylim((0,max(historico)))\n",
    "\n",
    "[a,b]"
   ]
  },
  {
   "cell_type": "code",
   "execution_count": 27,
   "id": "7bad6dda-5af7-48b7-be27-67b20517adfd",
   "metadata": {},
   "outputs": [
    {
     "data": {
      "text/plain": [
       "<matplotlib.collections.PathCollection at 0x13eaeda80>"
      ]
     },
     "execution_count": 27,
     "metadata": {},
     "output_type": "execute_result"
    },
    {
     "data": {
      "image/png": "[encoded data removed]",
      "text/plain": [
       "<Figure size 640x480 with 1 Axes>"
      ]
     },
     "metadata": {},
     "output_type": "display_data"
    }
   ],
   "source": [
    "yt = [ a*x[i] + b for i in range(n) ]\n",
    "\n",
    "plt.scatter(x,y, c=color['green'])\n",
    "plt.scatter(x,yt, c=color['red'])"
   ]
  },
  {
   "cell_type": "markdown",
   "id": "b5b32bae-4417-4e6f-9bf2-54ef43e534fa",
   "metadata": {},
   "source": [
    "## Resumo\n",
    "\n",
    "### Treinamento Supervisionado: Regressão linear\n",
    "\n",
    "|                |                          |                                                  |\n",
    "|----------------|--------------------------|--------------------------------------------------|\n",
    "| $\\theta$       | Vetor de coeficientes    | $a,b \\in \\mathbb{R}$                             |\n",
    "| $f$            | Equação do primeiro grau | $ỹ = ax + b$                                     |\n",
    "| $F$            | Mínimos Quadrados        | Fechada                                          |\n",
    "| $F$            | Gradiente Descendente    | Iterativo                                        |\n",
    "| $L$            | Erro Quadrático médio    | ${\\epsilon} {= {\\sum_{i=0}^{n}{(y_i{-ỹ_i})^2}}}$ |"
   ]
  },
  {
   "cell_type": "markdown",
   "id": "87bf183c-b91c-40c5-8695-ed85844ba44b",
   "metadata": {},
   "source": [
    "#### Função de treinamento ($F$)\n",
    "\n",
    "Nos modelos de aprendizado supervizionado a Função de Treinamento ($F$) é basicamente um método de otimização. O objetivo de $F$ é encontrar o melhor conjunto de parâmetros ($\\theta$) que minimize a incerteza ($\\epsilon$).\n",
    "\n",
    "$$\\theta, \\epsilon = F(f, L, \\Omega, \\mathcal{D})$$\n",
    "\n",
    "Onde:\n",
    "\n",
    "- $\\Omega$: Hiperparâmetros\n",
    "- $\\theta$: Modelo/Parâmetros\n",
    "- $f$: Função de Inferência\n",
    "- $L$: Função de Custos\n",
    "- $D$: Dados de treinamento"
   ]
  },
  {
   "cell_type": "markdown",
   "id": "b077e64b-bebd-49d7-afa0-a52de17fc691",
   "metadata": {},
   "source": [
    "#### Função de custo ($L$)\n",
    "\n",
    "Considerando que a incerteza é um dos pontos mais importantes para aferição de precisão, precisamos de uma função que nos restorne tal informação. A essa função chamamos de Função de Custo ($L$).\n",
    "\n",
    "$$L(y, ỹ) = {\\sum_{i=0}^{n}(y_i-ỹ_i)^2 \\over n}$$\n",
    "\n",
    "Onde:\n",
    "- $ỹ$: saídas estimadas\n",
    "- $y$: saídas esperadas"
   ]
  },
  {
   "cell_type": "markdown",
   "id": "c425a936-c826-4928-bb96-47f90f0fe373",
   "metadata": {},
   "source": [
    "![](aprendizado-supervisionado.png)"
   ]
  },
  {
   "cell_type": "markdown",
   "id": "eba88ed5-a88f-45c3-9209-3264083068f6",
   "metadata": {},
   "source": [
    "[<< Tópico Anterior](02-natureza-dos-processos.ipynb)"
   ]
  }
 ],
 "metadata": {
  "kernelspec": {
   "display_name": "Python 3 (ipykernel)",
   "language": "python",
   "name": "python3"
  },
  "language_info": {
   "codemirror_mode": {
    "name": "ipython",
    "version": 3
   },
   "file_extension": ".py",
   "mimetype": "text/x-python",
   "name": "python",
   "nbconvert_exporter": "python",
   "pygments_lexer": "ipython3",
   "version": "3.10.4"
  }
 },
 "nbformat": 4,
 "nbformat_minor": 5
}

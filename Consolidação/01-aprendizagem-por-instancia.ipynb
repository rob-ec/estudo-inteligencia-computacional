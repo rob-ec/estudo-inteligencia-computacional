{
 "cells": [
  {
   "cell_type": "markdown",
   "id": "2c449f1a-4d91-42f8-a35b-762eceedb54a",
   "metadata": {},
   "source": [
    "# I.C.: Aprendizado por instância\n",
    "\n",
    "Robson Mesquita Gomes  \n",
    "[<robson.mesquita56@gmail>](mailto:robson.mesquita56@gmail.com)"
   ]
  },
  {
   "cell_type": "markdown",
   "id": "648f0f13-9068-49ee-b857-925584dc4795",
   "metadata": {},
   "source": [
    "## Introdução\n",
    "\n",
    "Métodos de aprendizado por instância são métodos que simplesmente armazenam os exemplos de treinamento. A generalização é feita somente quando uma nova instância tiver que ser classificada."
   ]
  },
  {
   "cell_type": "markdown",
   "id": "00b8f227-e16e-47d0-83e3-e247d810e785",
   "metadata": {
    "tags": []
   },
   "source": [
    "### Referências da problemática base\n",
    "\n",
    "Para compreender melhor a sessão a seguir é interessante que se se relembre:\n",
    "\n",
    " **Sistema observado:**  \n",
    " \n",
    " $$Y=G(X)$$\n",
    " \n",
    " _Onde_\n",
    " - _$G$: Processo gerador de dados, que transforma a informação $X$ em $Y$._\n",
    " \n",
    " **Aproximação:**\n",
    " \n",
    " $$\\theta, \\epsilon = F(X,Y)$$\n",
    " $$Ỹ = f(X, \\theta) + \\epsilon$$\n",
    " \n",
    " _Onde_\n",
    " - _$F$: Função de treinamento;_\n",
    " - _$\\theta$: Parâmetros;_\n",
    " - _$\\epsilon$: Margem de erro;_\n",
    " - _$f$: Função de aproximação._\n",
    "\n",
    " **Características de um Modelo I.C.**\n",
    "\n",
    " | Notação  |          Característica          |                            Descrição                               |\n",
    " |----------|----------------------------------|--------------------------------------------------------------------|\n",
    " |     X    | Dados de Entrada _(treinamento)_ | Dados que temos                                                    |\n",
    " |     Y    | Dados de Saída _(treinamento)_   | Dados que desejamos prever                                         |\n",
    " |     F    | Função de Treinamento            | Aprende $\\theta$ a partir dos dados disponíveis                    |\n",
    " |     f    | Função de Inferência             | Usa $\\theta$ para inferir $y$ a partir dos valores $x$ disponíveis |\n",
    " | $\\theta$ | Parâmetros                       | Representação do \"conhecimento\"                                    |\n",
    " |$\\epsilon$| Incerteza ($ \\epsilon = Ỹ - Y $) | Margem de erro padrão das previsões realizadas                     |\n",
    " |     Ỹ    | Estimativa                       | Previsão de $Y$ (baseado em $X$) mais a incerteza $\\epsilon$       |"
   ]
  },
  {
   "cell_type": "markdown",
   "id": "32b068dc-0677-4c56-8fc3-6a6dbb59095c",
   "metadata": {},
   "source": [
    "### Lógica\n",
    "\n",
    "**Premissa:** Entidades parecidas em alguns aspectos tendem a ser parecidas em todos os aspectos.\n",
    "\n",
    "**SE**  \n",
    "    A e B pertencem ao mesmo grupo  \n",
    "**ENTÃO**    \n",
    "    Alguma informação que tenho de B também se aplica a A  "
   ]
  },
  {
   "cell_type": "markdown",
   "id": "0c7492f2-8d95-4035-8f97-fc7dcedb2ad9",
   "metadata": {},
   "source": [
    "### Características\n",
    "\n",
    "- Não possui $F$, ou seja, não possui método de aprendizado\n",
    "- Os modelos são os próprios dados $D$\n",
    "- A função de inferência ($f$), toda vez que é utilizada, faz uma busca em $D$ e seleciona as instâncias que são mais relevantes para realizar a tarefa"
   ]
  },
  {
   "cell_type": "markdown",
   "id": "d68a08dd-f170-4087-ab3b-85631d743ea5",
   "metadata": {},
   "source": [
    "## Algoritmos e aplicação\n",
    "\n",
    "Nessa sessão discorreremos sobre alguns dos algoritmos de **Aprendizado por Instância** e seus usos práticos."
   ]
  },
  {
   "cell_type": "markdown",
   "id": "7ca9ce9c-8333-4092-ada8-4a454e4ab120",
   "metadata": {},
   "source": [
    "###### importações iniciais"
   ]
  },
  {
   "cell_type": "code",
   "execution_count": 70,
   "id": "6ae6a545-7b7a-41a0-83e3-b07733c5b227",
   "metadata": {},
   "outputs": [],
   "source": [
    "import numpy as np\n",
    "import pandas as pd\n",
    "import matplotlib.pyplot as plt\n",
    "\n",
    "import io\n",
    "import requests\n",
    "\n",
    "from collections import Counter"
   ]
  },
  {
   "cell_type": "markdown",
   "id": "79afc1fe-5c26-46d7-ad10-fb689afb01ba",
   "metadata": {},
   "source": [
    "###### preparação para captura de dados externos"
   ]
  },
  {
   "cell_type": "code",
   "execution_count": 71,
   "id": "65da34f0-7167-4622-81ae-5f6ee29878a8",
   "metadata": {},
   "outputs": [],
   "source": [
    "def get_data_by_url(url):\n",
    "    \n",
    "    data = requests.get(url).content\n",
    "    \n",
    "    return io.StringIO(data.decode('utf-8'))"
   ]
  },
  {
   "cell_type": "markdown",
   "id": "d1889dd2-5fcb-4371-b308-798334db24fe",
   "metadata": {},
   "source": [
    "### Data Frame\n",
    "\n",
    "Para experiênciar o uso prático dos modelos e algoritmos precisaremos de uma base de dados experimental.\n",
    "\n",
    "#### Dados Titanic\n",
    "\n",
    "O dataset Titanic contém 5 atributos (Nome, Classe, Idade, Sexo, Sobreviveu) com 1313 instâncias, cada uma representando um dos passageiros ou tripulantes do RMS Titanic que naufragou no Oceano Atlântico em 15 de abril de 1912. \n",
    "\n",
    "Com esses dados queremos inferir se uma determinada pessoa sobreviveu ou não ao naufrágio ( `y = {Sobreviveu}` ), usando como base os atributos descritivos `× = {Classe, Idade, Sexo]`. Logo o problema em questão é de _Classificação_, e o atributo alvo _Sobreviveu_ contém apenas duas classes: `1`, se a pessoa sobreviveu e `0`, se a pessoa não sobreviveu."
   ]
  },
  {
   "cell_type": "code",
   "execution_count": 72,
   "id": "406ae132-b184-4310-902b-9442a0cc1bef",
   "metadata": {},
   "outputs": [
    {
     "data": {
      "text/html": [
       "<div>\n",
       "<style scoped>\n",
       "    .dataframe tbody tr th:only-of-type {\n",
       "        vertical-align: middle;\n",
       "    }\n",
       "\n",
       "    .dataframe tbody tr th {\n",
       "        vertical-align: top;\n",
       "    }\n",
       "\n",
       "    .dataframe thead th {\n",
       "        text-align: right;\n",
       "    }\n",
       "</style>\n",
       "<table border=\"1\" class=\"dataframe\">\n",
       "  <thead>\n",
       "    <tr style=\"text-align: right;\">\n",
       "      <th></th>\n",
       "      <th>Nome</th>\n",
       "      <th>Classe</th>\n",
       "      <th>Idade</th>\n",
       "      <th>Sexo</th>\n",
       "      <th>Sobreviveu</th>\n",
       "    </tr>\n",
       "  </thead>\n",
       "  <tbody>\n",
       "    <tr>\n",
       "      <th>0</th>\n",
       "      <td>Allen, Miss Elisabeth Walton</td>\n",
       "      <td>1.0</td>\n",
       "      <td>29.00</td>\n",
       "      <td>F</td>\n",
       "      <td>1</td>\n",
       "    </tr>\n",
       "    <tr>\n",
       "      <th>1</th>\n",
       "      <td>Allison, Miss Helen Loraine</td>\n",
       "      <td>1.0</td>\n",
       "      <td>2.00</td>\n",
       "      <td>F</td>\n",
       "      <td>0</td>\n",
       "    </tr>\n",
       "    <tr>\n",
       "      <th>2</th>\n",
       "      <td>Allison, Mr Hudson Joshua Creighton</td>\n",
       "      <td>1.0</td>\n",
       "      <td>30.00</td>\n",
       "      <td>M</td>\n",
       "      <td>0</td>\n",
       "    </tr>\n",
       "    <tr>\n",
       "      <th>3</th>\n",
       "      <td>Allison, Mrs Hudson JC (Bessie Waldo Daniels)</td>\n",
       "      <td>1.0</td>\n",
       "      <td>25.00</td>\n",
       "      <td>F</td>\n",
       "      <td>0</td>\n",
       "    </tr>\n",
       "    <tr>\n",
       "      <th>4</th>\n",
       "      <td>Allison, Master Hudson Trevor</td>\n",
       "      <td>1.0</td>\n",
       "      <td>0.92</td>\n",
       "      <td>M</td>\n",
       "      <td>1</td>\n",
       "    </tr>\n",
       "  </tbody>\n",
       "</table>\n",
       "</div>"
      ],
      "text/plain": [
       "                                            Nome  Classe  Idade Sexo  \\\n",
       "0                   Allen, Miss Elisabeth Walton     1.0  29.00    F   \n",
       "1                    Allison, Miss Helen Loraine     1.0   2.00    F   \n",
       "2            Allison, Mr Hudson Joshua Creighton     1.0  30.00    M   \n",
       "3  Allison, Mrs Hudson JC (Bessie Waldo Daniels)     1.0  25.00    F   \n",
       "4                  Allison, Master Hudson Trevor     1.0   0.92    M   \n",
       "\n",
       "   Sobreviveu  \n",
       "0           1  \n",
       "1           0  \n",
       "2           0  \n",
       "3           0  \n",
       "4           1  "
      ]
     },
     "execution_count": 72,
     "metadata": {},
     "output_type": "execute_result"
    }
   ],
   "source": [
    "# Data Frame\n",
    "\n",
    "df = pd.read_csv(get_data_by_url('https://query.data.world/s/c2ixg24yogu6pgudqodbhn5ynrvdjr'))\n",
    "\n",
    "df.head()"
   ]
  },
  {
   "cell_type": "markdown",
   "id": "494e93b9-b3f9-4002-82b8-afbf4bbc1c8d",
   "metadata": {},
   "source": [
    "#### Melhorando a qualidade dos dados\n",
    "\n",
    "##### Criando o atributo 'FaixaEtaria'\n",
    "\n",
    "A fim de simplificar nossas nálises, vamos discretizar o atributo numérico `idade`, transformando-o no atribuo categórico `FaixaEtaria`, contendo as seguintes classes conforme o intervalo de idades:  \n",
    "\n",
    "- 0 a 10: Criança\n",
    "- 11 a 18: Jovem\n",
    "- 19 a 50: Adulto\n",
    "- +50: Idoso\n",
    "- Não conhecida"
   ]
  },
  {
   "cell_type": "code",
   "execution_count": 73,
   "id": "baa8b943-c8be-473d-a897-b38a6ecae44c",
   "metadata": {},
   "outputs": [],
   "source": [
    "# Transforma idade em faixa etária\n",
    "\n",
    "def faixa_etaria(idade):\n",
    "    \n",
    "    if idade == np.nan:\n",
    "        return 'NaoConhecida'\n",
    "    \n",
    "    if 0.0 <= idade <= 10.0:\n",
    "        return 'Crianca'\n",
    "    \n",
    "    if 11.0 <= idade <= 18.0:\n",
    "        return 'Jovem'\n",
    "    \n",
    "    if 19.0 <= idade <= 50.0:\n",
    "        return 'Adulto'\n",
    "    \n",
    "    if idade > 50.0:\n",
    "        return 'Idoso'"
   ]
  },
  {
   "cell_type": "code",
   "execution_count": 74,
   "id": "a2457ee7-10bf-43dd-9741-4a9d13dc9d3d",
   "metadata": {},
   "outputs": [
    {
     "data": {
      "text/plain": [
       "'Idoso'"
      ]
     },
     "execution_count": 74,
     "metadata": {},
     "output_type": "execute_result"
    }
   ],
   "source": [
    "faixa_etaria(51) # <-- teste"
   ]
  },
  {
   "cell_type": "code",
   "execution_count": 75,
   "id": "9efa2b12-b6a9-40d0-8e65-25c70eef2db5",
   "metadata": {},
   "outputs": [
    {
     "data": {
      "text/html": [
       "<div>\n",
       "<style scoped>\n",
       "    .dataframe tbody tr th:only-of-type {\n",
       "        vertical-align: middle;\n",
       "    }\n",
       "\n",
       "    .dataframe tbody tr th {\n",
       "        vertical-align: top;\n",
       "    }\n",
       "\n",
       "    .dataframe thead th {\n",
       "        text-align: right;\n",
       "    }\n",
       "</style>\n",
       "<table border=\"1\" class=\"dataframe\">\n",
       "  <thead>\n",
       "    <tr style=\"text-align: right;\">\n",
       "      <th></th>\n",
       "      <th>Nome</th>\n",
       "      <th>Classe</th>\n",
       "      <th>Idade</th>\n",
       "      <th>Sexo</th>\n",
       "      <th>Sobreviveu</th>\n",
       "      <th>FaixaEtaria</th>\n",
       "    </tr>\n",
       "  </thead>\n",
       "  <tbody>\n",
       "    <tr>\n",
       "      <th>0</th>\n",
       "      <td>Allen, Miss Elisabeth Walton</td>\n",
       "      <td>1.0</td>\n",
       "      <td>29.00</td>\n",
       "      <td>F</td>\n",
       "      <td>1</td>\n",
       "      <td>Adulto</td>\n",
       "    </tr>\n",
       "    <tr>\n",
       "      <th>1</th>\n",
       "      <td>Allison, Miss Helen Loraine</td>\n",
       "      <td>1.0</td>\n",
       "      <td>2.00</td>\n",
       "      <td>F</td>\n",
       "      <td>0</td>\n",
       "      <td>Crianca</td>\n",
       "    </tr>\n",
       "    <tr>\n",
       "      <th>2</th>\n",
       "      <td>Allison, Mr Hudson Joshua Creighton</td>\n",
       "      <td>1.0</td>\n",
       "      <td>30.00</td>\n",
       "      <td>M</td>\n",
       "      <td>0</td>\n",
       "      <td>Adulto</td>\n",
       "    </tr>\n",
       "    <tr>\n",
       "      <th>3</th>\n",
       "      <td>Allison, Mrs Hudson JC (Bessie Waldo Daniels)</td>\n",
       "      <td>1.0</td>\n",
       "      <td>25.00</td>\n",
       "      <td>F</td>\n",
       "      <td>0</td>\n",
       "      <td>Adulto</td>\n",
       "    </tr>\n",
       "    <tr>\n",
       "      <th>4</th>\n",
       "      <td>Allison, Master Hudson Trevor</td>\n",
       "      <td>1.0</td>\n",
       "      <td>0.92</td>\n",
       "      <td>M</td>\n",
       "      <td>1</td>\n",
       "      <td>Crianca</td>\n",
       "    </tr>\n",
       "  </tbody>\n",
       "</table>\n",
       "</div>"
      ],
      "text/plain": [
       "                                            Nome  Classe  Idade Sexo  \\\n",
       "0                   Allen, Miss Elisabeth Walton     1.0  29.00    F   \n",
       "1                    Allison, Miss Helen Loraine     1.0   2.00    F   \n",
       "2            Allison, Mr Hudson Joshua Creighton     1.0  30.00    M   \n",
       "3  Allison, Mrs Hudson JC (Bessie Waldo Daniels)     1.0  25.00    F   \n",
       "4                  Allison, Master Hudson Trevor     1.0   0.92    M   \n",
       "\n",
       "   Sobreviveu FaixaEtaria  \n",
       "0           1      Adulto  \n",
       "1           0     Crianca  \n",
       "2           0      Adulto  \n",
       "3           0      Adulto  \n",
       "4           1     Crianca  "
      ]
     },
     "execution_count": 75,
     "metadata": {},
     "output_type": "execute_result"
    }
   ],
   "source": [
    "df['FaixaEtaria'] = [faixa_etaria(idade) for idade in df['Idade'].values]\n",
    "\n",
    "df.head()"
   ]
  },
  {
   "cell_type": "markdown",
   "id": "e5e0aa7f-b312-4d2f-aff1-8a88c44f1d29",
   "metadata": {},
   "source": [
    "##### Seleção de atributos\n",
    "\n",
    "Excluiremos do DataFrame os atributos `Nome` e `Idade`, pois não serão úteis em nossas nálises daqui para a frente, mantendo os atributos `Classe`, `Sexo`, `FaixaEtaria` e `Sobreviveu`."
   ]
  },
  {
   "cell_type": "code",
   "execution_count": 76,
   "id": "002faf86-b844-4da8-9390-3e58c0f0ebc5",
   "metadata": {},
   "outputs": [
    {
     "data": {
      "text/html": [
       "<div>\n",
       "<style scoped>\n",
       "    .dataframe tbody tr th:only-of-type {\n",
       "        vertical-align: middle;\n",
       "    }\n",
       "\n",
       "    .dataframe tbody tr th {\n",
       "        vertical-align: top;\n",
       "    }\n",
       "\n",
       "    .dataframe thead th {\n",
       "        text-align: right;\n",
       "    }\n",
       "</style>\n",
       "<table border=\"1\" class=\"dataframe\">\n",
       "  <thead>\n",
       "    <tr style=\"text-align: right;\">\n",
       "      <th></th>\n",
       "      <th>Classe</th>\n",
       "      <th>Sexo</th>\n",
       "      <th>FaixaEtaria</th>\n",
       "      <th>Sobreviveu</th>\n",
       "    </tr>\n",
       "  </thead>\n",
       "  <tbody>\n",
       "    <tr>\n",
       "      <th>0</th>\n",
       "      <td>1.0</td>\n",
       "      <td>F</td>\n",
       "      <td>Adulto</td>\n",
       "      <td>1</td>\n",
       "    </tr>\n",
       "    <tr>\n",
       "      <th>1</th>\n",
       "      <td>1.0</td>\n",
       "      <td>F</td>\n",
       "      <td>Crianca</td>\n",
       "      <td>0</td>\n",
       "    </tr>\n",
       "    <tr>\n",
       "      <th>2</th>\n",
       "      <td>1.0</td>\n",
       "      <td>M</td>\n",
       "      <td>Adulto</td>\n",
       "      <td>0</td>\n",
       "    </tr>\n",
       "    <tr>\n",
       "      <th>3</th>\n",
       "      <td>1.0</td>\n",
       "      <td>F</td>\n",
       "      <td>Adulto</td>\n",
       "      <td>0</td>\n",
       "    </tr>\n",
       "    <tr>\n",
       "      <th>4</th>\n",
       "      <td>1.0</td>\n",
       "      <td>M</td>\n",
       "      <td>Crianca</td>\n",
       "      <td>1</td>\n",
       "    </tr>\n",
       "  </tbody>\n",
       "</table>\n",
       "</div>"
      ],
      "text/plain": [
       "   Classe Sexo FaixaEtaria  Sobreviveu\n",
       "0     1.0    F      Adulto           1\n",
       "1     1.0    F     Crianca           0\n",
       "2     1.0    M      Adulto           0\n",
       "3     1.0    F      Adulto           0\n",
       "4     1.0    M     Crianca           1"
      ]
     },
     "execution_count": 76,
     "metadata": {},
     "output_type": "execute_result"
    }
   ],
   "source": [
    "df = df[['Classe', 'Sexo', 'FaixaEtaria', 'Sobreviveu']]\n",
    "\n",
    "df.head()"
   ]
  },
  {
   "cell_type": "code",
   "execution_count": 77,
   "id": "2c8016ea-3540-4963-aacc-e8974e5cd457",
   "metadata": {},
   "outputs": [
    {
     "data": {
      "text/plain": [
       "Classe            1.0\n",
       "Sexo                F\n",
       "FaixaEtaria    Adulto\n",
       "Sobreviveu          0\n",
       "Name: 3, dtype: object"
      ]
     },
     "execution_count": 77,
     "metadata": {},
     "output_type": "execute_result"
    }
   ],
   "source": [
    "df.loc[3]"
   ]
  },
  {
   "cell_type": "markdown",
   "id": "f128a54b-7a8e-44ef-95d1-4d3b90a948d6",
   "metadata": {},
   "source": [
    "#### Amostrando os conjuntos de Treino e de Teste\n",
    "\n",
    "A fim de investigar o poder de generalização dos métodos estudados, vamos separar os dados em dois conjuntos:\n",
    "\n",
    "- **Conjunto de Treino**: Contém 70% dos dados originais e será utilizado no processo de inferência\n",
    "- **Conjunto de Teste**: Contém 30% dos dados originais e será utilizado"
   ]
  },
  {
   "cell_type": "code",
   "execution_count": 78,
   "id": "4ff8dc78-0df3-4efe-b702-44d5d498c63e",
   "metadata": {},
   "outputs": [],
   "source": [
    "total = len(df.index)\n",
    "\n",
    "treino = df.iloc[: int(total * .7)]\n",
    "teste = df.iloc[ int(total * .3) :]"
   ]
  },
  {
   "cell_type": "code",
   "execution_count": 79,
   "id": "5dad2a6e-6210-41c2-8104-498bdb5471db",
   "metadata": {},
   "outputs": [
    {
     "data": {
      "text/plain": [
       "RangeIndex(start=0, stop=919, step=1)"
      ]
     },
     "execution_count": 79,
     "metadata": {},
     "output_type": "execute_result"
    }
   ],
   "source": [
    "treino.index"
   ]
  },
  {
   "cell_type": "markdown",
   "id": "d345d6d8-eb64-48b5-87d8-4310b3e9f175",
   "metadata": {},
   "source": [
    "### Matriz de Confusão e Acurácia\n",
    "\n",
    "Para garantir a usabilidade dos modelos criados precisamos de métodos para calcular a precisão dos mesmos, para isso podemos utilizar a Matriz de Confusão para calcular a acurácia.\n",
    "\n",
    "A **Matriz de Confusão** contém os valores:\n",
    "\n",
    "- $TP$ - Verdadeiros Positivos\n",
    "- $FP$ - Falsos Positivos\n",
    "- $TN$ - Verdadeiros Negativos\n",
    "- $FN$ - Falsos Negativos\n",
    "\n",
    "Com esses valores definimos a métrica de **Acurácia** $A_c \\in [0,1]$, tal que:  \n",
    "\n",
    "$$ A_c = {{TP + TN} \\over {TP + FP + TN + FN}} $$"
   ]
  },
  {
   "cell_type": "code",
   "execution_count": 80,
   "id": "58607921-18dd-4d37-9e1b-8811c36eb4fe",
   "metadata": {},
   "outputs": [],
   "source": [
    "def matriz_confusao(esperados, estimados):\n",
    "    \n",
    "    tp, fp, tn, fn = 0, 0, 0, 0\n",
    "    \n",
    "    for par in zip(esperados, estimados):\n",
    "        \n",
    "        if par[0] and par[1]:\n",
    "            tp += 1\n",
    "        \n",
    "        if par[0] and not par[1]:\n",
    "            fn += 1\n",
    "        \n",
    "        if not par[0] and not par[1]:\n",
    "            tn += 1\n",
    "        \n",
    "        if not par[0] and par[1]:\n",
    "            fp += 1\n",
    "\n",
    "    return np.array([tp, fp, tn, fn])"
   ]
  },
  {
   "cell_type": "code",
   "execution_count": 81,
   "id": "d8db1338-b593-46b1-bdf9-c83bdccdbef2",
   "metadata": {},
   "outputs": [],
   "source": [
    "def acuracia(esperados, estimados):\n",
    "    n = len(esperados)\n",
    "    \n",
    "    tp, fp, tn, fn = matriz_confusao(esperados, estimados)\n",
    "    \n",
    "    return (tp + tn)/n"
   ]
  },
  {
   "cell_type": "code",
   "execution_count": 82,
   "id": "122b1e91-5585-48b4-bbef-e9872fce0b45",
   "metadata": {},
   "outputs": [
    {
     "data": {
      "text/plain": [
       "0.5"
      ]
     },
     "execution_count": 82,
     "metadata": {},
     "output_type": "execute_result"
    }
   ],
   "source": [
    "# teste\n",
    "\n",
    "esperados = [0, 0, 0, 0]\n",
    "estimados = [0, 1, 0, 1]\n",
    "\n",
    "acuracia(esperados, estimados)"
   ]
  },
  {
   "cell_type": "markdown",
   "id": "4017ae85-e19c-41b3-b978-a1a54d291c42",
   "metadata": {},
   "source": [
    "### kNN\n",
    "\n",
    "Os k vizinhos mais próximos (do inglês k nearest neighbors)\n",
    "\n",
    "**Pontos fortes**: simplicidade.  \n",
    "**Pontos fracos**: custo computacional."
   ]
  },
  {
   "cell_type": "markdown",
   "id": "4027088f-ee45-4682-a4de-ba1fd4ac9a56",
   "metadata": {
    "tags": []
   },
   "source": [
    "#### Parâmetros ($\\theta$)\n",
    "\n",
    "- $k$: número de vizinhos\n",
    "- $d$: função de distância\n",
    "- $m$: função de mesclagem\n",
    "- Modelo = $D$"
   ]
  },
  {
   "cell_type": "markdown",
   "id": "e0b5fd76-1ce8-4fad-a5a3-7e0774efa805",
   "metadata": {},
   "source": [
    "#### Simplificação\n",
    "\n",
    "**função** kNN($k$, $D$, $x*$, $d$, $m$):  \n",
    "\n",
    "$\\forall (x,y)_i \\in D$, distâncias[$i$] $\\leftarrow$ d(x*,x)\n",
    "\n",
    "distâncias $\\leftarrow$ Ordenar(distâncias)\n",
    "\n",
    "vizinhos $m$(distâncias[0:$k$])\n",
    "\n",
    "**fimfunção**"
   ]
  },
  {
   "cell_type": "markdown",
   "id": "c38e9765-1b2e-4d9c-a853-9056b8d3f4f7",
   "metadata": {},
   "source": [
    "#### Função de distância\n",
    "\n",
    "Uma função de distância $d : \\mathbb{R}^n, \\mathbb{R}^n \\rightarrow \\mathbb{R}^+$ é uma função que calcula a similaridade de dois vetores $\\alpha \\in \\mathbb{R}^n$ e $\\beta \\in \\mathbb{R}^n$ através de sua distância no espaço $\\mathbb{R}^n$.\n",
    "\n",
    "No caso de instâncias em que os valores não são reais, mas categóricos, uma função de distância comum é a [Distância de Hamming](https://pt.wikipedia.org/wiki/Distância_de_Hamming), que pode ser definida como:\n",
    "\n",
    "$$d(\\alpha, \\beta) = \\sum_{i=0}^{n} \\mathbb{I}(\\alpha[i] \\ne \\beta[i])$$\n",
    "\n",
    "Onde $\\mathbb{I}$(expressão)$\\{$retorna $1$ se expressão for verdadeira e $0$ se falsa$\\}$ é a função indicadora.\n",
    "\n",
    "##### Normalização\n",
    "\n",
    "Na nossa implementação a Distância de Hamming é normalizado no intervalo $[0,1]$\n",
    "\n",
    "$$d(\\alpha, \\beta) = {\\sum_{i=0}^{n} \\mathbb{I}(\\alpha[i] \\ne \\beta[i])}\\over n$$"
   ]
  },
  {
   "cell_type": "code",
   "execution_count": 83,
   "id": "3585639c-fbde-4ae9-a256-4caed5651f09",
   "metadata": {},
   "outputs": [],
   "source": [
    "def distancia_hamming(a, b, normalizar = True):\n",
    "    distancia = sum( [a[key] != b[key] for key in a.keys()] );\n",
    "    \n",
    "    if normalizar:\n",
    "        return distancia/len(a.keys())\n",
    "\n",
    "    return distancia"
   ]
  },
  {
   "cell_type": "code",
   "execution_count": 84,
   "id": "352462b9-09fa-4c6c-b5b8-c3213537c7ed",
   "metadata": {},
   "outputs": [
    {
     "data": {
      "text/plain": [
       "1"
      ]
     },
     "execution_count": 84,
     "metadata": {},
     "output_type": "execute_result"
    }
   ],
   "source": [
    "# teste não normalizado\n",
    "\n",
    "a = {'a':1, 'b': 0, 'c':1}\n",
    "b = {'a':1, 'b': 1, 'c':1}\n",
    "\n",
    "distancia_hamming(a,b, False)"
   ]
  },
  {
   "cell_type": "code",
   "execution_count": 85,
   "id": "ffe16fac-75da-4a69-a9b9-14865568086f",
   "metadata": {},
   "outputs": [
    {
     "data": {
      "text/plain": [
       "0.3333333333333333"
      ]
     },
     "execution_count": 85,
     "metadata": {},
     "output_type": "execute_result"
    }
   ],
   "source": [
    "# teste normalizado\n",
    "\n",
    "distancia_hamming(a,b)"
   ]
  },
  {
   "cell_type": "markdown",
   "id": "73a286af-6420-4589-b56c-cb17410e57ea",
   "metadata": {},
   "source": [
    "##### Demonstração de aplicação"
   ]
  },
  {
   "cell_type": "code",
   "execution_count": 86,
   "id": "579ee6df-9e98-4e63-ac41-ac1ab5a7185b",
   "metadata": {},
   "outputs": [
    {
     "name": "stdout",
     "output_type": "stream",
     "text": [
      "Passageiro(a) 1: \n",
      "================\n",
      "\n",
      "Classe             1.0\n",
      "Sexo                 F\n",
      "FaixaEtaria    Crianca\n",
      "Sobreviveu           0\n",
      "Name: 1, dtype: object\n",
      "\n",
      "\n",
      "Passageiro(a) 2: \n",
      "================\n",
      "\n",
      "Classe            1.0\n",
      "Sexo                M\n",
      "FaixaEtaria    Adulto\n",
      "Sobreviveu          0\n",
      "Name: 2, dtype: object\n",
      "\n",
      "\n",
      "Distância: 0.5\n"
     ]
    }
   ],
   "source": [
    "print(\"Passageiro(a) 1: \\n{}\\n\\n{}\\n\\n\".format( \"=\"*16, df.iloc[1]))\n",
    "\n",
    "print(\"Passageiro(a) 2: \\n{}\\n\\n{}\\n\\n\".format( \"=\"*16, df.iloc[2]))\n",
    "\n",
    "print(\"Distância: {}\".format(distancia_hamming(df.iloc[1], df.iloc[2])))"
   ]
  },
  {
   "cell_type": "markdown",
   "id": "67c8a5c5-939c-4925-8029-fff33beac461",
   "metadata": {
    "tags": []
   },
   "source": [
    "#### Função de Mesclagem"
   ]
  },
  {
   "cell_type": "code",
   "execution_count": 87,
   "id": "488ae0c2-2516-43da-ab39-232228d79db6",
   "metadata": {},
   "outputs": [],
   "source": [
    "def mais_frequente(array):\n",
    "    frequencias = Counter(array)\n",
    "    return max(frequencias, key=frequencias.get)"
   ]
  },
  {
   "cell_type": "code",
   "execution_count": 88,
   "id": "56781fdc-bcf7-4614-b5d3-6462e5e87291",
   "metadata": {},
   "outputs": [
    {
     "data": {
      "text/plain": [
       "0"
      ]
     },
     "execution_count": 88,
     "metadata": {},
     "output_type": "execute_result"
    }
   ],
   "source": [
    "# teste\n",
    "\n",
    "mais_frequente([1,1,0,0,1,0,0])"
   ]
  },
  {
   "cell_type": "markdown",
   "id": "b0c825ae-15a5-4b21-9cc5-c2135c0d1db6",
   "metadata": {
    "tags": []
   },
   "source": [
    "##### Calculando e ordenando distâncias"
   ]
  },
  {
   "cell_type": "code",
   "execution_count": 89,
   "id": "afafa8d9-0917-4ede-9f5f-c9fc3f9fa93f",
   "metadata": {
    "tags": []
   },
   "outputs": [],
   "source": [
    "x = {'Sexo': 'M', 'FaixaEtaria': 'Adulto', 'Classe': 3.0}"
   ]
  },
  {
   "cell_type": "markdown",
   "id": "34a15d40-81dd-4583-9dd5-f7213593b676",
   "metadata": {},
   "source": [
    "###### Calculando distâncias"
   ]
  },
  {
   "cell_type": "code",
   "execution_count": 90,
   "id": "dcaa6cbd-db08-4104-a5b7-45ef709badf1",
   "metadata": {
    "tags": []
   },
   "outputs": [],
   "source": [
    "distancias = { indice: distancia_hamming(x, treino.loc[indice]) for indice in treino.index }"
   ]
  },
  {
   "cell_type": "markdown",
   "id": "76f3ac85-aac6-45e4-8d8d-4df8929026a3",
   "metadata": {},
   "source": [
    "###### Ordenando indices por distância"
   ]
  },
  {
   "cell_type": "code",
   "execution_count": 91,
   "id": "1c586ccd-392a-4721-a631-522b2e9088f0",
   "metadata": {
    "tags": []
   },
   "outputs": [],
   "source": [
    "indices = sorted(distancias, key=distancias.get)"
   ]
  },
  {
   "cell_type": "markdown",
   "id": "9224d049-fab6-4ffb-b44d-74da7a9fd348",
   "metadata": {},
   "source": [
    "##### Selecionando os vizinhos mais próximos e mesclando os valores"
   ]
  },
  {
   "cell_type": "code",
   "execution_count": 92,
   "id": "c7d0d510-95a5-41d5-9f81-b53caef63d74",
   "metadata": {},
   "outputs": [
    {
     "data": {
      "text/html": [
       "<div>\n",
       "<style scoped>\n",
       "    .dataframe tbody tr th:only-of-type {\n",
       "        vertical-align: middle;\n",
       "    }\n",
       "\n",
       "    .dataframe tbody tr th {\n",
       "        vertical-align: top;\n",
       "    }\n",
       "\n",
       "    .dataframe thead th {\n",
       "        text-align: right;\n",
       "    }\n",
       "</style>\n",
       "<table border=\"1\" class=\"dataframe\">\n",
       "  <thead>\n",
       "    <tr style=\"text-align: right;\">\n",
       "      <th></th>\n",
       "      <th>Classe</th>\n",
       "      <th>Sexo</th>\n",
       "      <th>FaixaEtaria</th>\n",
       "      <th>Sobreviveu</th>\n",
       "    </tr>\n",
       "  </thead>\n",
       "  <tbody>\n",
       "    <tr>\n",
       "      <th>602</th>\n",
       "      <td>3.0</td>\n",
       "      <td>M</td>\n",
       "      <td>Adulto</td>\n",
       "      <td>0</td>\n",
       "    </tr>\n",
       "    <tr>\n",
       "      <th>607</th>\n",
       "      <td>3.0</td>\n",
       "      <td>M</td>\n",
       "      <td>Adulto</td>\n",
       "      <td>1</td>\n",
       "    </tr>\n",
       "    <tr>\n",
       "      <th>609</th>\n",
       "      <td>3.0</td>\n",
       "      <td>M</td>\n",
       "      <td>Adulto</td>\n",
       "      <td>1</td>\n",
       "    </tr>\n",
       "  </tbody>\n",
       "</table>\n",
       "</div>"
      ],
      "text/plain": [
       "     Classe Sexo FaixaEtaria  Sobreviveu\n",
       "602     3.0    M      Adulto           0\n",
       "607     3.0    M      Adulto           1\n",
       "609     3.0    M      Adulto           1"
      ]
     },
     "execution_count": 92,
     "metadata": {},
     "output_type": "execute_result"
    }
   ],
   "source": [
    "vizinhos = treino.loc[indices[ :3]]\n",
    "\n",
    "vizinhos"
   ]
  },
  {
   "cell_type": "code",
   "execution_count": 93,
   "id": "34a8d93f-9c75-423a-b110-9b03ef85645e",
   "metadata": {},
   "outputs": [
    {
     "data": {
      "text/plain": [
       "1"
      ]
     },
     "execution_count": 93,
     "metadata": {},
     "output_type": "execute_result"
    }
   ],
   "source": [
    "y = mais_frequente(vizinhos['Sobreviveu'].values);\n",
    "\n",
    "y"
   ]
  },
  {
   "cell_type": "markdown",
   "id": "fd4b0acb-609f-41c0-98a8-0aba8c686ee0",
   "metadata": {},
   "source": [
    "#### Aplicação"
   ]
  },
  {
   "cell_type": "code",
   "execution_count": 94,
   "id": "c5dd9dc6-cd6b-4da8-aca1-38f01ec6f5cc",
   "metadata": {},
   "outputs": [],
   "source": [
    "def knn(dados, k, x, y, funcao_distancia, funcao_mesclagem):\n",
    "    \n",
    "    distancias = { indice: funcao_distancia(x, dados.iloc[ indice ]) for indice in dados.index}\n",
    "    \n",
    "    indices = sorted(distancias, key=distancias.get)\n",
    "    \n",
    "    vizinhos = dados.loc[indices[ :k]]\n",
    "    \n",
    "    y_estimado = funcao_mesclagem(vizinhos[y].values)\n",
    "    \n",
    "    return y_estimado"
   ]
  },
  {
   "cell_type": "code",
   "execution_count": 95,
   "id": "a9472057-b2ae-4368-ac80-ea685b5fe0cd",
   "metadata": {},
   "outputs": [
    {
     "data": {
      "text/plain": [
       "1"
      ]
     },
     "execution_count": 95,
     "metadata": {},
     "output_type": "execute_result"
    }
   ],
   "source": [
    "# teste\n",
    "\n",
    "passageiro = {'Sexo': 'F', 'FaixaEtaria': 'Adulto', 'Classe': 1.0}\n",
    "\n",
    "knn(treino, 2, passageiro, 'Sobreviveu', distancia_hamming, mais_frequente)"
   ]
  },
  {
   "cell_type": "markdown",
   "id": "d4100533-cb3c-4565-ac32-1f0caa8edf5d",
   "metadata": {},
   "source": [
    "##### Teste do modelo"
   ]
  },
  {
   "cell_type": "code",
   "execution_count": 96,
   "id": "8b4f72a7-489a-4a14-9870-ad50698b7fc7",
   "metadata": {},
   "outputs": [
    {
     "data": {
      "text/plain": [
       "0.7760869565217391"
      ]
     },
     "execution_count": 96,
     "metadata": {},
     "output_type": "execute_result"
    }
   ],
   "source": [
    "x = ['Sexo', 'Classe', 'FaixaEtaria']\n",
    "y = 'Sobreviveu'\n",
    "\n",
    "esperados = [] # valores existentes no conjunto de testes\n",
    "estimados = [] # gerados pelo kNN\n",
    "\n",
    "for indice in teste.index:\n",
    "    instancia = teste.loc[indice]\n",
    "    \n",
    "    esperados.append(instancia[y])\n",
    "    \n",
    "    consulta = {chave: instancia[chave] for chave in x}\n",
    "    \n",
    "    y_estimado = knn(treino, 2, consulta, y, distancia_hamming, mais_frequente)\n",
    "    \n",
    "    estimados.append(y_estimado)\n",
    "\n",
    "acuracia(esperados, estimados)"
   ]
  },
  {
   "cell_type": "markdown",
   "id": "ee0980da-e53c-4c33-983e-cd68e952735d",
   "metadata": {},
   "source": [
    "### Naïve Bayes\n",
    "\n",
    "##### Regra de Bayes\n",
    "\n",
    "$$P(y|x) = {{P(x|y) \\cdot P(y)} \\over {P(x)}}$$\n",
    "\n",
    "_onde:_\n",
    "\n",
    "- $x$ _são os valores dos atributos descritivos (ou a evidência)_\n",
    "- $y$ _é o valor do atributo alvo (ou hipótese)_\n",
    "- $P(x|y)$ _é a probabilidade à posteriore_\n",
    "- $P(x|y)$ _é a verossimilhança_\n",
    "- $P(y)$ _é a probabilidade à priori_\n",
    "- $P(x)$ _é a probabilidade da evidência_"
   ]
  },
  {
   "cell_type": "markdown",
   "id": "0ca485f6-f985-4469-8d1b-e137bee9baa4",
   "metadata": {},
   "source": [
    "#### Probabilidade da evidência - $P(x)$\n",
    "\n",
    "Probabilidade empírica:\n",
    "\n",
    "$$P(A) = {|A| \\over |\\Omega|}$$"
   ]
  },
  {
   "cell_type": "code",
   "execution_count": 97,
   "id": "fe683ffc-db41-473e-abd6-c8ee686715d5",
   "metadata": {},
   "outputs": [
    {
     "data": {
      "text/plain": [
       "0.24156692056583243"
      ]
     },
     "execution_count": 97,
     "metadata": {},
     "output_type": "execute_result"
    }
   ],
   "source": [
    "# Tamanho total do conjunto de dados\n",
    "n = len(treino.index)\n",
    "\n",
    "# Atributos descritivos\n",
    "x = \"Sexo == 'M' & Classe == 3\"\n",
    "\n",
    "# Filtra o conjunto de dados a partir dos atributos descritivos\n",
    "x_dados = treino.query(x)\n",
    "\n",
    "# Tamanho total do filtro\n",
    "xn = len(x_dados.index)\n",
    "\n",
    "# Probabilidade Empírica P(x)\n",
    "px = xn/n\n",
    "\n",
    "px"
   ]
  },
  {
   "cell_type": "markdown",
   "id": "4e4ffbee-bfd2-4dd2-bfb5-fd009b9548eb",
   "metadata": {},
   "source": [
    "#### Probabilidade à priori - $P(y)$\n",
    "\n",
    "Para o caso do algoritmo de Naïve Bayes utilizaremos um dicionário para armazenar todas as probabilidades conhecidas obtendo-as a partir de Probabilidade Empírica."
   ]
  },
  {
   "cell_type": "code",
   "execution_count": 98,
   "id": "ad32fdf1-968a-40b0-bfea-d5d7ba570cdf",
   "metadata": {},
   "outputs": [
    {
     "data": {
      "text/plain": [
       "array([1, 0])"
      ]
     },
     "execution_count": 98,
     "metadata": {},
     "output_type": "execute_result"
    }
   ],
   "source": [
    "# Número de classes do atributo alvo\n",
    "classes = treino['Sobreviveu'].unique()\n",
    "\n",
    "classes"
   ]
  },
  {
   "cell_type": "code",
   "execution_count": 99,
   "id": "b67b07f3-1652-4bb7-93d3-89aa489241e6",
   "metadata": {},
   "outputs": [
    {
     "data": {
      "text/plain": [
       "{1: 0.42219804134929273, 0: 0.5778019586507073}"
      ]
     },
     "execution_count": 99,
     "metadata": {},
     "output_type": "execute_result"
    }
   ],
   "source": [
    "# Dicionário que conterá as probabilidades P(y) para cada classe de y\n",
    "py = {}\n",
    "\n",
    "for classe in classes:\n",
    "    \n",
    "    # Filtra o conjunto de dados a partir dos atributos alvo\n",
    "    y_dados = treino.query(\"Sobreviveu == {}\".format(classe))\n",
    "    \n",
    "    # Tamanho do filtro\n",
    "    yn = len(y_dados.index)\n",
    "    \n",
    "    # Probabilidade à priori da classe y (P(y))\n",
    "    py[classe] = yn/n\n",
    "    \n",
    "\n",
    "py"
   ]
  },
  {
   "cell_type": "markdown",
   "id": "85d02d59-91ca-4e49-a234-6db5d8aa05aa",
   "metadata": {},
   "source": [
    "#### Verossimilhança - $P(x|y)$\n",
    "\n",
    "$$P(x|y) = {P(x,y) \\over P(y)}$$"
   ]
  },
  {
   "cell_type": "code",
   "execution_count": 100,
   "id": "8343f72c-2a82-4031-a0d4-8ef17795b158",
   "metadata": {},
   "outputs": [
    {
     "data": {
      "text/plain": [
       "{1: 0.07731958762886598, 0: 0.3615819209039548}"
      ]
     },
     "execution_count": 100,
     "metadata": {},
     "output_type": "execute_result"
    }
   ],
   "source": [
    "# Dicionário que conterá as probabilidades P(x|y) para cada classe de y\n",
    "pxy = {}\n",
    "\n",
    "for classe in classes:\n",
    "    \n",
    "    # Filtra o conjunto de dados a partir dos atributos descritivos e dos atributos alvo\n",
    "    xy_dados = treino.query(\"{} & Sobreviveu == {}\".format(x, classe))\n",
    "    \n",
    "    # Tamanho do filtro\n",
    "    xyn = len(xy_dados.index)\n",
    "    \n",
    "    # Verossimilhança dos atributos descritivos em relação aos atributos alvo\n",
    "    pxy[classe] = (xyn/n)/py[classe]\n",
    "\n",
    "pxy"
   ]
  },
  {
   "cell_type": "markdown",
   "id": "e7cf4c90-30ff-4b22-8352-8b07cf43e6f3",
   "metadata": {},
   "source": [
    "#### Probabilidade à Posteriori - $P(y|x)$\n",
    "\n",
    "$$P(y|x) = {{P(x|y) \\cdot P(y)} \\over {P(x)}}$$"
   ]
  },
  {
   "cell_type": "code",
   "execution_count": 101,
   "id": "fdea3d34-30f4-4417-beb2-89e3adb562ba",
   "metadata": {},
   "outputs": [
    {
     "data": {
      "text/plain": [
       "{1: 0.13513513513513514, 0: 0.8648648648648649}"
      ]
     },
     "execution_count": 101,
     "metadata": {},
     "output_type": "execute_result"
    }
   ],
   "source": [
    "# Dicionário que conterá as probabilidades P(y|x) para cada classe de y\n",
    "pyx = {}\n",
    "\n",
    "for classe in classes:\n",
    "    # Regra de Bayes P(y|x) = (P(x|y)*P(y))/P(x)\n",
    "    pyx[classe] = (pxy[classe]*py[classe])/px\n",
    "\n",
    "pyx"
   ]
  },
  {
   "cell_type": "markdown",
   "id": "3fd86a40-4f94-425c-828d-a14513a81263",
   "metadata": {},
   "source": [
    "#### Máximo à Posteriori - $MAP$\n",
    "\n",
    "A classificação é decidida pela classe $y_i$ que maximizar a probabilidade à posteriori $P(y_i|x)$  \n",
    "\n",
    "$$y_{MAP} = \\arg\\max_{y_i}P(y_i|x) $$"
   ]
  },
  {
   "cell_type": "code",
   "execution_count": 102,
   "id": "91e23f88-f486-46d1-ac20-ca41676bb2af",
   "metadata": {},
   "outputs": [
    {
     "data": {
      "text/plain": [
       "0"
      ]
     },
     "execution_count": 102,
     "metadata": {},
     "output_type": "execute_result"
    }
   ],
   "source": [
    "max(pyx, key=pyx.get)"
   ]
  },
  {
   "cell_type": "markdown",
   "id": "49573cec-976b-4d08-9fbc-16dd2147146b",
   "metadata": {},
   "source": [
    "#### Algorítmo"
   ]
  },
  {
   "cell_type": "code",
   "execution_count": 103,
   "id": "bd805b6f-e425-4f13-9cb2-6d0bf5108c2c",
   "metadata": {},
   "outputs": [],
   "source": [
    "def naiveBayes(dados, x, y):\n",
    "    n = dados.size\n",
    "    \n",
    "    # Probabilidade da evidência P(x)\n",
    "    x_dados = dados.query(x)\n",
    "    xn = x_dados.size\n",
    "    px = xn/n\n",
    "    \n",
    "    # Probabilidade à priori P(y) por classe\n",
    "    classes = dados[y].unique()\n",
    "    py = {}\n",
    "    \n",
    "    for classe in classes:\n",
    "    \n",
    "        y_dados = dados.query(\"{} == {}\".format(y, classe))\n",
    "        yn = y_dados.size\n",
    "        \n",
    "        py[classe] = yn/n\n",
    "    \n",
    "    # Verossimilhança P(x|y) por classe\n",
    "    pxy = {}\n",
    "    \n",
    "    for classe in classes:\n",
    "        xy_dados = dados.query(\"{} & {} == {}\".format(x, y, classe))\n",
    "        xyn = xy_dados.size\n",
    "        \n",
    "        pxy[classe] = (xyn/n)/py[classe]\n",
    "    \n",
    "    # Probabilidade à posteriori - P(y|x) por classe\n",
    "    pyx = {}\n",
    "    \n",
    "    for classe in classes:\n",
    "        # Teorema de Bayes P(y|x) = (P(x|y)*P(y))/P(x)\n",
    "        pyx[classe] = (pxy[classe]*py[classe])/px\n",
    "    \n",
    "    return max(pyx, key=pyx.get)"
   ]
  },
  {
   "cell_type": "code",
   "execution_count": 104,
   "id": "8e5d9fb3-cade-4233-8472-b70a2996fd9b",
   "metadata": {},
   "outputs": [
    {
     "data": {
      "text/plain": [
       "1"
      ]
     },
     "execution_count": 104,
     "metadata": {},
     "output_type": "execute_result"
    }
   ],
   "source": [
    "# teste\n",
    "\n",
    "naiveBayes(treino, \"Sexo == 'F' & Classe == 1\", 'Sobreviveu')"
   ]
  },
  {
   "cell_type": "code",
   "execution_count": 105,
   "id": "8045d8ef-8efc-420e-a585-bcb57779e61b",
   "metadata": {},
   "outputs": [
    {
     "data": {
      "text/plain": [
       "0"
      ]
     },
     "execution_count": 105,
     "metadata": {},
     "output_type": "execute_result"
    }
   ],
   "source": [
    "naiveBayes(treino, \"FaixaEtaria == 'Adulto' & Classe == 3\", 'Sobreviveu')"
   ]
  },
  {
   "cell_type": "markdown",
   "id": "d4ffb9d8-3dc0-4fe2-b314-a23f2e8cb2d6",
   "metadata": {},
   "source": [
    "##### Teste do modelo"
   ]
  },
  {
   "cell_type": "code",
   "execution_count": 106,
   "id": "a4bc747a-61b8-4839-a76e-6d9e2545af02",
   "metadata": {},
   "outputs": [
    {
     "name": "stderr",
     "output_type": "stream",
     "text": [
      "/var/folders/2y/q957rqmj3c1ckz7t4qg_1cdr0000gn/T/ipykernel_76154/3069504419.py:34: RuntimeWarning: invalid value encountered in scalar divide\n",
      "  pyx[classe] = (pxy[classe]*py[classe])/px\n"
     ]
    },
    {
     "data": {
      "text/plain": [
       "0.24565217391304348"
      ]
     },
     "execution_count": 106,
     "metadata": {},
     "output_type": "execute_result"
    }
   ],
   "source": [
    "x = ['Sexo', 'Classe', 'FaixaEtaria']\n",
    "y = 'Sobreviveu'\n",
    "\n",
    "esperados = []\n",
    "estimados = []\n",
    "\n",
    "for indice in teste.index:\n",
    "    instancia = teste.loc[indice]\n",
    "    \n",
    "    esperados.append(instancia[y])\n",
    "    \n",
    "    tmp = [ \"{} == '{}'\".format(chave, instancia[chave]) for chave in x ]\n",
    "    consulta = ' & '.join(tmp)\n",
    "    \n",
    "    y_estimado = naiveBayes(teste, consulta, y)\n",
    "    \n",
    "    estimados.append(y_estimado)\n",
    "\n",
    "acuracia(esperados, estimados)"
   ]
  },
  {
   "cell_type": "markdown",
   "id": "cc74cc2b-76fc-4d23-8978-4369dd328a5f",
   "metadata": {},
   "source": [
    "[<< Tópico Anterior](00-introducao.ipynb)"
   ]
  }
 ],
 "metadata": {
  "kernelspec": {
   "display_name": "Python 3 (ipykernel)",
   "language": "python",
   "name": "python3"
  },
  "language_info": {
   "codemirror_mode": {
    "name": "ipython",
    "version": 3
   },
   "file_extension": ".py",
   "mimetype": "text/x-python",
   "name": "python",
   "nbconvert_exporter": "python",
   "pygments_lexer": "ipython3",
   "version": "3.10.4"
  }
 },
 "nbformat": 4,
 "nbformat_minor": 5
}

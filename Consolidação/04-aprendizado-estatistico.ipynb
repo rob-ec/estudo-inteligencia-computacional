{
 "cells": [
  {
   "cell_type": "markdown",
   "id": "5a2c9022-a54e-4e0d-ac23-e941699b38d9",
   "metadata": {},
   "source": [
    "# I.C.: Aprendizado estatístico\n",
    "\n",
    "Robson Mesquita Gomes  \n",
    "[<robson.mesquita56@gmail>](mailto:robson.mesquita56@gmail.com)"
   ]
  },
  {
   "cell_type": "markdown",
   "id": "4037f001-960c-4e87-a76c-808b9b316c9a",
   "metadata": {},
   "source": [
    "## Introdução\n",
    "\n",
    "Lidando com a previsão de sistemas estocásticos é inevitável à nessessidade de compreender em algum nível o funcionamento de modelos probabilisticos. Nessa sessão iremos explorar brevemente alguns conceitos amplamente utilizados em Inteligência Computacional."
   ]
  },
  {
   "cell_type": "markdown",
   "id": "8facf77a-0e77-4d7c-bcc9-6cc4e7f8809c",
   "metadata": {},
   "source": [
    "## Referências de Natureza dos Processos\n",
    "\n",
    "#### Distribuição de Probabilidade\n",
    "\n",
    "Uma distribuição de probabilidade é uma função que descreve a incerteza associada aos valores de uma variável aleatórea $X$.\n",
    "\n",
    "$$X \\sim P(parâmetros)$$\n",
    "\n",
    "Ou seja, $X$ é distribuído de acordo com $P$ dados os $parâmetros$\n",
    "\n",
    "##### Função de densidade de probabilidade (FDP)\n",
    "\n",
    "A função de densidade de probabilidade (FDP) é uma função que associa à cada valor $x \\in X$ um valor em $[0,1]$, tal que\n",
    "\n",
    "$$P: X \\rightarrow [0,1]$$\n",
    "\n",
    "$$\\sum_{x \\in X} P(X) = 1$$\n",
    "\n",
    "##### Exemplos de distribuições de probabilidade\n",
    "\n",
    "|        Distribuição        |   Nome   |                           Densidade                            |\n",
    "|----------------------------|----------|----------------------------------------------------------------|\n",
    "| $\\mathcal{U}({\\min,\\max})$ | Uniforme | $P(X) = {1 \\over {(\\max {- \\min})}}$                           |\n",
    "| $\\mathcal{N}(\\mu, \\sigma)$ | Normal   | $P(X) = {1 \\over {\\sigma \\sqrt{2}\\pi e^{-1/2(X-\\mu)/\\sigma}}}$ |"
   ]
  },
  {
   "cell_type": "markdown",
   "id": "eeeff8d5-cf9c-48c4-81c9-1e1dd11341ca",
   "metadata": {},
   "source": [
    "## Distribuição de Probabilidade"
   ]
  },
  {
   "cell_type": "markdown",
   "id": "80423943-bbc8-4b27-8a34-ba8086a81d29",
   "metadata": {},
   "source": [
    "![](distribuicoes-probabilidade.png)"
   ]
  },
  {
   "cell_type": "markdown",
   "id": "66479f87-5c79-446a-ac5f-0cccd6cff011",
   "metadata": {},
   "source": [
    "### Momentos\n",
    "\n",
    "#### Valor experado ($\\mathbb{E}[Y]$)\n",
    "\n",
    "Calcula o valor mais provável de acontecer em $Y$. Também é um estimador da média quando os dados são normalmente distribuídos, ou seja, quando $Y \\sim \\mathcal{N}(\\mu, \\sigma)$.\n",
    "\n",
    "$$\\mathbb{E}[Y] = \\sum_{y \\in U}y \\cdot P(y)$$\n",
    "\n",
    "#### Variância ($\\mathbb{Var}[Y]$)\n",
    "\n",
    "Calcula o quanto, em média, os valores em $Y$ estão distântes de $\\mathbb{E}[Y]$. Estima \"a média das distâncias para a média\".\n",
    "\n",
    "$$\\mathbb{Var}[Y] = \\mathbb{E}[\\mathbb[Y] - Y]$$"
   ]
  },
  {
   "cell_type": "markdown",
   "id": "68be6a99-9469-410e-9772-cf3da46be8e2",
   "metadata": {},
   "source": [
    "## Características de treinamento e ajuste de modelos"
   ]
  },
  {
   "cell_type": "markdown",
   "id": "71725b07-a508-4a2e-9ca4-b8e24481ea4b",
   "metadata": {},
   "source": [
    "## Referências de Aprendizado Supervisionado\n",
    "\n",
    "#### Sinal e Ruído\n",
    "\n",
    "$$Dados = Sinal + Ruído$$\n",
    "\n",
    "#### Sinal\n",
    "\n",
    "Trata-se da informação relevante contida nos dados que descreve o comportamento médio e generaliza os dados.\n",
    "\n",
    "#### Ruído\n",
    "\n",
    "É definido por pequenas variações no comportamento geral, características específicas de uma instância, que diferem (para mais ou para menos) do comportamento geral. Trata-se da variância em torno do comportamento médio."
   ]
  },
  {
   "cell_type": "markdown",
   "id": "7e353cbe-21bc-4e6b-87ec-9027173e8e3b",
   "metadata": {},
   "source": [
    "### Sinal e ruído\n",
    "\n",
    "![](sinal-ruido.png)"
   ]
  },
  {
   "cell_type": "markdown",
   "id": "e5717a06-e3dd-4679-a869-83c60d997c81",
   "metadata": {},
   "source": [
    "### Generalização \n",
    "\n",
    "Generalização é a capacidade de um modelo de, usando os **dados de treino**, encontrar o sinal e separar os ruídos nos **dados de teste**, ou seja, dados nunca \"vistos\" pelo modelo."
   ]
  },
  {
   "cell_type": "markdown",
   "id": "25500586-850e-4838-bf2f-845a67a8936c",
   "metadata": {},
   "source": [
    "#### Indicadores\n",
    "\n",
    "##### Viés\n",
    "\n",
    "O viés indica o quanto o valor estimado $ỹ$ diverge do valor real $y$ e estima a capacidade do modelo de reconhecer o sinal.\n",
    "\n",
    "##### Variância\n",
    "\n",
    "A variância indica o quanto o valor estima $ỹ$ flutua em relação ao valor médio e estima a capacidade do modelo de se adaptar à complexidade dos dados e lidar com o ruído."
   ]
  },
  {
   "cell_type": "markdown",
   "id": "b7144dbd-dce4-4309-802f-31c70b6badb5",
   "metadata": {},
   "source": [
    "![](vies-variancia.png)"
   ]
  },
  {
   "cell_type": "markdown",
   "id": "c9efc0a0-0c42-4862-8fb6-dd843c7e18a0",
   "metadata": {},
   "source": [
    "#### Tipos de modelo baseados na generalização\n",
    "\n",
    "##### Ajustado (_fit_)\n",
    "Há equilíbrio entre viés e variância\n",
    "\n",
    "##### Sub-ajustado (_underfit_)\n",
    "O modelo tem um viés muito grande, não conseguiu nem aprender o sinal dos dados.\n",
    "\n",
    "##### Sobre-ajustado (_overfit_)\n",
    "O modelo tem uma variância muito grande, aprendeu até o ruído dos dados."
   ]
  },
  {
   "cell_type": "markdown",
   "id": "93bcb162-87ff-459f-beba-3b3f4b70df3b",
   "metadata": {},
   "source": [
    "## Metodologias de treinamento e ajuste de modelos\n",
    "\n",
    "Para se ter certeza da utilidade do modelo é nessessária a criação de métricas que ajudem nessa tarefa."
   ]
  },
  {
   "cell_type": "markdown",
   "id": "ce4cf3aa-e630-41e2-9112-fe294140ae52",
   "metadata": {},
   "source": [
    "### Validação cruzada (_Cross Validation_)\n",
    "\n",
    "Na validação cruzada separamos os dados disponíveis em dois conjuntos, o conjunto de treino e o conjunto de teste.\n",
    "\n",
    "|                    |          |                                                                                       |\n",
    "|--------------------|----------|---------------------------------------------------------------------------------------|\n",
    "| Conjunto de Treino | T        | Utilizado para ajustar os parâmetros no treinamento supervisionado                    |\n",
    "| Conjunto de Teste  | 100% - T | Utilizado para avaliar a acurácia do modelo treinado (nunca utilizado no treinamento) |\n",
    "\n",
    "O Método de Treinamento tem que ajustar os parâmetros usando os dados de treino de forma que eles generalizem e sejam capazes de prever dados nunca vistos antes (os dados de teste), partindo do pressuposto que os dados de teste têm o mesmo comportamento que os dados de treino."
   ]
  },
  {
   "cell_type": "markdown",
   "id": "2a5b63ae-b64c-401b-a9c2-af919c8cf024",
   "metadata": {},
   "source": [
    "### k-Fold Cross Validation\n",
    "\n",
    "Vizando garantir o nível de qualidade do modelo é interessante ainda separar no conjunto de treino um conjunto de validação que será usado durante o Treinamento Supervisionado para avaliar a capacidade de generalização dos parâmetros.\n",
    "\n",
    "Definiremos então:\n",
    "\n",
    "- Fold: conjunto de dados\n",
    "- k: número de subconjuntos\n",
    "\n",
    "No exemplo abaixo V é um conjunto (Fold) de validação, T um conjunto de treinamento e TESTE o conjunto de teste. Os dados encontram-se particionados em 10 conjuntos, sendo somente um (1) de teste.\n",
    "\n",
    "| | | | | | | | | |     |\n",
    "|-|-|-|-|-|-|-|-|-|-----|\n",
    "|T|T|T|T|T|T|T|T|V|TESTE|\n",
    "\n",
    "Em uma próxima iteração do algoritmo hipotético ao qual nossos dados estão servindo o conjunto de validação muda e passa a ser outro fold. Assim o modelo é validado em situações diferentes ao menos um k número de vezes.\n",
    "\n",
    "| | | | | | | | | |     |\n",
    "|-|-|-|-|-|-|-|-|-|-----|\n",
    "|T|T|T|T|T|T|T|V|T|TESTE|"
   ]
  },
  {
   "cell_type": "markdown",
   "id": "65aa04a3-3bf1-4350-a1ec-af6b8304a8ce",
   "metadata": {},
   "source": [
    "#### Curvas de aprendizagem\n",
    "\n",
    "Uma curva de aprendizagem avalia a convergência do modelo e como o erro diminui ao longo do\n",
    "processo de aprendizagem.\n",
    "\n",
    "![](curvas-aprendizagem.png)"
   ]
  },
  {
   "cell_type": "markdown",
   "id": "467c81dd-17ed-451b-a105-79a95040631c",
   "metadata": {},
   "source": [
    "##### Considerando a validação\n",
    "\n",
    "![](curvas-aprendizagem-validacao.png)"
   ]
  },
  {
   "cell_type": "markdown",
   "id": "90dd10e4-680a-4b32-84de-2dd66c748d63",
   "metadata": {},
   "source": [
    "##### Fit (ajustado)\n",
    "\n",
    "Quando o modelo está ajustado ambas as curvas diminuem ao longo do tempo, isso significa que o modelo foi capaz de aprender o sinal sem reproduzir os ruídos contidos nos dados. Isso implica em uma boa generalização, pois os comportamentos aprendidos nos dados de treino foram plenamente capazes de serem aplicados aos dados de validação.\n",
    "\n",
    "![](curva-aprendizagem-fit.png)"
   ]
  },
  {
   "cell_type": "markdown",
   "id": "01c7bcc7-c5b6-444c-bd6a-e087a1df8926",
   "metadata": {},
   "source": [
    "##### Underfit (sub ajustado)\n",
    "\n",
    "Quando o modelo está sub ajustado as curvas de erro **não decrescem** ao longo do tempo de treinamento, pois o modelo não foi capaz de aprender os padrões presentes nos dados, implicando que o modelo não foi suficiente para aprender o sinal dos dados.\n",
    "\n",
    "Nesses casos é interessante observar se:\n",
    "\n",
    "- Os dados são mais complexos do que a capacidade de representação do modelo\n",
    "- Hiperparâmetros ($\\Omega$) estão incorretos no método de aprendizagem\n",
    "\n",
    "![](curva-aprendizagem-underfit.png)"
   ]
  },
  {
   "cell_type": "markdown",
   "id": "adccc10f-3411-40b2-b2d8-0aaa09dea12c",
   "metadata": {},
   "source": [
    "##### Overfit (sobre ajustado)\n",
    "\n",
    "Quando o modelo está sobre ajustado a curva de erro dos dados de treinamento diminui, ou seja, o modelo aprendeu o sinal. Mas a curva de erro dos dados de validação não diminui ou diminui muito menos que a curva de erro de treinamento. Isso significa que o modelo aprendeu também os ruídos dos dados prejudicando a generalização, possivelmente o problema é mais simples que a complexidade do modelo.\n",
    "\n",
    "![](curva-aprendizagem-overfit.png)"
   ]
  },
  {
   "cell_type": "markdown",
   "id": "7d024c3d-059b-4f25-8d35-4ccfde89d8e4",
   "metadata": {},
   "source": [
    "### Viés e Variância"
   ]
  },
  {
   "cell_type": "markdown",
   "id": "508f9dfb-9b22-4a6a-9636-0b49d386a026",
   "metadata": {},
   "source": [
    "#### Erro Quadrático\n",
    "\n",
    "**MSE($\\mathcal{D}, \\theta$)**\n",
    "\n",
    "$= {n^{-1}} \\cdot {\\sum_{i=0}^{n} \\epsilon_i^2}$\n",
    "\n",
    "$= {n^{-1}} \\cdot {\\sum_{i=0}^{n} (y_i - ỹ_i)^2}$\n",
    "\n",
    "$= {n^{-1}} \\cdot {\\sum_{i=0}^{n} (y_i - f(x_i, \\theta))^2}$\n",
    "\n",
    "Como ${{n}^{-1} = {{1} \\over {n}}}$ podemos afirmar que\n",
    "\n",
    "$$\\epsilon \\sim \\mathcal{U}(0,n)$$\n",
    "$$P(\\epsilon_i) = {{1}\\over{n}}$$\n",
    "\n",
    "Dessa forma\n",
    "\n",
    "**MSE($\\mathcal{D}, \\theta$)**\n",
    "\n",
    "$= {n^{-1}} \\cdot {\\sum_{i=0}^{n} (y_i - f(x_i, \\theta))^2}$\n",
    "\n",
    "$= {\\sum_{i=0}^{n} (y_i - ỹ_i)^2} \\cdot {P((y_i - ỹ_i)^2)}$\n",
    "\n",
    "$= {\\sum_{i=0}^{n} \\epsilon^2} \\cdot {P(\\epsilon^2)}$\n",
    "\n",
    "$= \\mathbb{E}[\\epsilon^2] $\n",
    "\n",
    "Concluímos então que\n",
    "\n",
    "**Erro Quadrático (Square Error - SE)**\n",
    "\n",
    "$$SE = \\epsilon^2 = (y_i - ỹ_i)^2$$\n",
    "\n",
    "**Erro Médio Quadrático (Mean Square Error - MSE)**\n",
    "\n",
    "$$MSE = \\mathbb{E}[\\epsilon^2]$$"
   ]
  },
  {
   "cell_type": "markdown",
   "id": "62e63bd0-e01d-478b-8edd-ca78088fe9df",
   "metadata": {},
   "source": [
    "#### Viés (Bias)\n",
    "\n",
    "Viés indica tendência ou desvio, algo muito enviesado ou tendencioso, principalmente se tratando de análise de dados, torna-se \"não confiável\". Para verificar essa característica no modelo faz-se nessessário estimar esse valor, que representa o desvio médio (sistemático) de $ỹ$ em relação aos valores verdadeiros de $y$.\n",
    "\n",
    "$$Viés = \\mathbb{E}[ỹ] - y$$"
   ]
  },
  {
   "cell_type": "markdown",
   "id": "635de280-b2fd-44b8-b9f3-7945b4d45da9",
   "metadata": {},
   "source": [
    "#### Variância ($\\mathbb{Var}$)\n",
    "\n",
    "A variância reflete a variabilidade de $ỹ$ e reflete a adaptabilidade do modelo aos valores reais de $ỹ$, bem como à sensibilidade ao ruído em $x$.\n",
    "\n",
    "**Variância**\n",
    "$$\\mathbb{Var}(ỹ) = \\mathbb{E}[ (\\mathbb{E}[ỹ] - y)^2 ]$$"
   ]
  },
  {
   "cell_type": "markdown",
   "id": "06411c45-103b-4ea7-82cc-a6a66783f880",
   "metadata": {},
   "source": [
    "## Bias & Variance Trade-off\n",
    "\n",
    "Todo modelo possui um erro irredutível, esse erro está relacionado ao ruído intrínseco nos dados. Dessa forma não é possível minimizar totalmente Viés e Variância, pois ao minimizar o viés a variância aumenta e ao minimizar a variância o viés aumenta. \n",
    "\n",
    "Considerando isso, ao construir um modelo buscamos um equilíbrio entre ambas."
   ]
  },
  {
   "cell_type": "markdown",
   "id": "282cd6d0-db5e-438f-91f6-931ce6b338b1",
   "metadata": {},
   "source": [
    "## Resumo\n",
    "\n",
    "$$\\text{MSE} = \\mathbb{E}[(\\text{Viés})^2 + \\mathbb{Var}] + \\sigma^2$$\n",
    "\n",
    "$$\\sigma^2 \\sim \\mathcal{N}(\\mu,\\sigma)$$\n",
    "\n",
    "$$\\text{Viés} = \\mathbb{E}[ỹ] - y$$\n",
    "\n",
    "$$\\mathbb{Var}[ỹ] = \\mathbb{E}[ (\\mathbb{E}[ỹ] - y)^2 ]$$"
   ]
  },
  {
   "cell_type": "markdown",
   "id": "df51492b-d142-4ff2-8d02-db8f5f23570c",
   "metadata": {},
   "source": [
    "[<< Tópico Anterior](03-aprendizado-supervisionado.ipynb)"
   ]
  }
 ],
 "metadata": {
  "kernelspec": {
   "display_name": "Python 3 (ipykernel)",
   "language": "python",
   "name": "python3"
  },
  "language_info": {
   "codemirror_mode": {
    "name": "ipython",
    "version": 3
   },
   "file_extension": ".py",
   "mimetype": "text/x-python",
   "name": "python",
   "nbconvert_exporter": "python",
   "pygments_lexer": "ipython3",
   "version": "3.10.4"
  }
 },
 "nbformat": 4,
 "nbformat_minor": 5
}
